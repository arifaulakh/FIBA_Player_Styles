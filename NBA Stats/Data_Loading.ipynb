{
 "cells": [
  {
   "cell_type": "code",
   "execution_count": 1,
   "id": "personalized-column",
   "metadata": {},
   "outputs": [],
   "source": [
    "from nba_api.stats.endpoints import synergyplaytypes\n",
    "\n",
    "def get_play_types_data(play_type, season_start_year=2020, player_or_team='P', per_game=False):\n",
    "    \"\"\"\n",
    "    Original documentation outdated:\n",
    "        https://github.com/swar/nba_api/blob/74ef7266e7d18c78d3d784098d994c148da18a38/docs/nba_api/stats/endpoints/synergyplaytypes.md\n",
    "    See instead:\n",
    "        https://github.com/swar/nba_api/issues/145\n",
    "    \n",
    "    play_type : str\n",
    "        A Synergy play type, one of [\"Cut\", \"Handoff\", \"Isolation\", \"Misc\", \"OffScreen\", \"Postup\", \"PRBallHandler\", \"PRRollman\", \"OffRebound\", \"Spotup\", \"Transition\"]\n",
    "    player_or_team : str\n",
    "        'P' for player data, 'T' for team data\n",
    "    season_start_year : int\n",
    "        Year in which season started, between 2015 and 2020\n",
    "    per_game : bool\n",
    "        True if per-game stats desired, False for Totals\n",
    "    \"\"\"\n",
    "    \n",
    "    season_string = str(season_start_year) + '-' + str(season_start_year + 1 - 2000)\n",
    "    per_mode = 'PerGame' if per_game else 'Totals'\n",
    "    stats = synergyplaytypes.SynergyPlayTypes(play_type_nullable=play_type,\n",
    "                                          player_or_team_abbreviation=player_or_team,\n",
    "                                          type_grouping_nullable='Offensive',\n",
    "                                          season=season_string,\n",
    "                                          per_mode_simple=per_mode)\n",
    "    return stats.get_data_frames()[0]\n",
    "\n",
    "play_types = [\"Cut\", \"Handoff\", \"Isolation\", \"Misc\", \"OffScreen\", \"Postup\", \"PRBallHandler\", \"PRRollman\", \"OffRebound\", \"Spotup\", \"Transition\"]\n",
    "seasons = list(range(15, 21))\n",
    "for season in seasons:\n",
    "    for play_type in play_types:\n",
    "        get_play_types_data(play_type, season + 2000).to_csv('data/' + play_type + '20' + str(season) + '-' + str(season+1) + '.csv')"
   ]
  }
 ],
 "metadata": {
  "kernelspec": {
   "display_name": "Python 3",
   "language": "python",
   "name": "python3"
  },
  "language_info": {
   "codemirror_mode": {
    "name": "ipython",
    "version": 3
   },
   "file_extension": ".py",
   "mimetype": "text/x-python",
   "name": "python",
   "nbconvert_exporter": "python",
   "pygments_lexer": "ipython3",
   "version": "3.7.9"
  }
 },
 "nbformat": 4,
 "nbformat_minor": 5
}
