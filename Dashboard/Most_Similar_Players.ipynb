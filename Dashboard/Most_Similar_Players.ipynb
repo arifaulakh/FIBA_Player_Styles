{
 "cells": [
  {
   "cell_type": "code",
   "execution_count": 1,
   "metadata": {},
   "outputs": [],
   "source": [
    "import pandas as pd\n",
    "import numpy as np\n",
    "\n",
    "df = pd.read_csv(\"../NBA_INTL_FIBA_Clustering.csv\", encoding='utf-8', index_col=0)\n",
    "dfs = [df[[c for c in df.columns if c.startswith(name)]].dropna() for name in ['FIBA', 'NBA', 'INTL']]\n",
    "\n",
    "name_series, raw_dfs, scaled_dfs, z_dfs = [], [], [], []\n",
    "for i in range(len(dfs)):\n",
    "    df = dfs[i].iloc[:, :-1] # Remove cluster column from dataframe\n",
    "    df = df.div(df.sum(axis=1), axis=0) # Normalize by row\n",
    "    name_series.append(df.index.values)\n",
    "    df = df.reset_index(drop=True)\n",
    "    dfs[i] = df\n",
    "    raw_dfs.append(dfs[i].values)\n",
    "    scaled_dfs.append(((df-df.min())/(df.max()-df.min())).values)\n",
    "    z_dfs.append(((df-df.mean())/df.std()).values)"
   ]
  },
  {
   "cell_type": "code",
   "execution_count": 2,
   "metadata": {},
   "outputs": [],
   "source": [
    "def get_n_closest_players(arr, player_index, n):\n",
    "    \"\"\" arr is df.values \"\"\"\n",
    "    temp = arr - arr[player_index]\n",
    "    l = np.sum(np.square(temp), axis=1)\n",
    "    indices = np.argpartition(l, n+1)[:n+1]\n",
    "    return indices[indices != player_index]"
   ]
  },
  {
   "cell_type": "code",
   "execution_count": 3,
   "metadata": {},
   "outputs": [
    {
     "name": "stdout",
     "output_type": "stream",
     "text": [
      "Player: ['Closest_Raw'], ['Closest_Scaled'], ['Closest_Z_Scores']\n",
      "_________________________________________________________________\n",
      "\n",
      "Bogdan Bogdanovic: ['Marco Belinelli'] ['Marco Belinelli'] ['Marco Belinelli']\n",
      "Luis Scola: ['Pau Gasol'] ['Pau Gasol'] ['Pau Gasol']\n",
      "Facundo Campazzo: ['Cory Joseph'] ['Cory Joseph'] ['Cory Joseph']\n",
      "Mantas Kalnietis: ['Tony Parker'] ['Tony Parker'] ['Tony Parker']\n",
      "Bojan Bogdanovic: ['Bogdan Bogdanovic'] ['Andray Blatche'] ['Andray Blatche']\n",
      "Nicolas Laprovittola: ['Facundo Campazzo'] ['Facundo Campazzo'] ['Facundo Campazzo']\n",
      "Dennis Schroder: ['Tony Parker'] ['Tony Parker'] ['Tony Parker']\n",
      "Petteri Koponen: ['Goran Dragic'] ['Goran Dragic'] ['Goran Dragic']\n",
      "Goran Dragic: ['Cory Joseph'] ['Cory Joseph'] ['Dennis Schroder']\n",
      "Marco Belinelli: ['Bogdan Bogdanovic'] ['Bogdan Bogdanovic'] ['Bogdan Bogdanovic']\n",
      "Andray Blatche: ['Dario Saric'] ['Dario Saric'] ['Bojan Bogdanovic']\n",
      "Sergio RodrÃ­guez: ['Tony Parker'] ['Tony Parker'] ['Tony Parker']\n",
      "Jose Juan Barea: ['Cory Joseph'] ['Cory Joseph'] ['Cory Joseph']\n",
      "Tony Parker: ['Dennis Schroder'] ['Sergio RodrÃ\\xadguez'] ['Sergio RodrÃ\\xadguez']\n",
      "Cory Joseph: ['Jose Juan Barea'] ['Facundo Campazzo'] ['Facundo Campazzo']\n",
      "Dario Saric: ['Andray Blatche'] ['Boris Diaw'] ['Boris Diaw']\n",
      "Milos Teodosic: ['Nicolas Laprovittola'] ['Marco Belinelli'] ['Bogdan Bogdanovic']\n",
      "Pau Gasol: ['Luis Scola'] ['Ioannis Bourousis'] ['Luis Scola']\n",
      "Boris Diaw: ['Luis Scola'] ['Luis Scola'] ['Luis Scola']\n",
      "Ioannis Bourousis: ['Pau Gasol'] ['Pau Gasol'] ['Pau Gasol']\n"
     ]
    }
   ],
   "source": [
    "s = name_series[0][:20]\n",
    "print(\"Player: ['Closest_Raw'], ['Closest_Scaled'], ['Closest_Z_Scores']\")\n",
    "print(\"_________________________________________________________________\")\n",
    "print()\n",
    "for i in range(20):\n",
    "    print(s[i] + ':', s[get_n_closest_players(raw_dfs[0][:20], i, 1)], s[get_n_closest_players(scaled_dfs[0][:20], i, 1)], s[get_n_closest_players(z_dfs[0][:20], i, 1)])"
   ]
  }
 ],
 "metadata": {
  "kernelspec": {
   "display_name": "Python 3",
   "language": "python",
   "name": "python3"
  },
  "language_info": {
   "codemirror_mode": {
    "name": "ipython",
    "version": 3
   },
   "file_extension": ".py",
   "mimetype": "text/x-python",
   "name": "python",
   "nbconvert_exporter": "python",
   "pygments_lexer": "ipython3",
   "version": "3.7.9"
  }
 },
 "nbformat": 4,
 "nbformat_minor": 4
}
