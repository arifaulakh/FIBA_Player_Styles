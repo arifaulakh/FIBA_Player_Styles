{
 "cells": [
  {
   "cell_type": "code",
   "execution_count": 1,
   "metadata": {},
   "outputs": [],
   "source": [
    "from jupyter_dash import JupyterDash\n",
    "import dash_core_components as dcc\n",
    "import dash_html_components as html\n",
    "from dash.dependencies import Input, Output\n",
    "import plotly.express as px\n",
    "import pandas as pd\n",
    "import numpy as np\n",
    "from plotly.subplots import make_subplots\n",
    "import plotly.graph_objects as go\n",
    "import dash_table"
   ]
  },
  {
   "cell_type": "code",
   "execution_count": 2,
   "metadata": {},
   "outputs": [
    {
     "name": "stdout",
     "output_type": "stream",
     "text": [
      "(1306, 11)\n",
      "(986, 11)\n",
      "(3871, 11)\n"
     ]
    }
   ],
   "source": [
    "df = pd.read_csv(\"../NBA_INTL_FIBA_Clustering.csv\", encoding='latin-1', index_col=0)\n",
    "all_names = ['Average'] + df.index.tolist()\n",
    "\n",
    "# Split up into separate dataframes\n",
    "FIBA_df = df[[c for c in df.columns if c.startswith('FIBA')]].dropna()\n",
    "NBA_df = df[[c for c in df.columns if c.startswith('NBA')]].dropna()\n",
    "INTL_df = df[[c for c in df.columns if c.startswith('INTL')]].dropna()\n",
    "dfs = [FIBA_df, NBA_df, INTL_df]\n",
    "for d in dfs:\n",
    "    print(d.shape)"
   ]
  },
  {
   "cell_type": "code",
   "execution_count": 3,
   "metadata": {},
   "outputs": [
    {
     "name": "stdout",
     "output_type": "stream",
     "text": [
      "(1307, 10)\n",
      "(987, 10)\n",
      "(3872, 10)\n"
     ]
    }
   ],
   "source": [
    "# Normalize dataframes, add row for 'Average', put cluster series in list\n",
    "cluster_series = []\n",
    "new_col_names = ['BH', 'SU', 'TR', 'IS', 'PU', 'RM', 'CT', 'OR', 'OS', 'HO']\n",
    "colours = ['#1f77b4', '#ff7f0e', '#2ca02c', '#d62728', '#9467bd', '#8c564b', '#e377c2', '#7f7f7f', '#bcbd22', '#17becf']\n",
    "\n",
    "for i in range(len(dfs)):\n",
    "    cluster_series.append(dfs[i].iloc[:, -1])\n",
    "    df = dfs[i].iloc[:, :-1]\n",
    "    if i == 0:\n",
    "        original_col_names = [c[5:] for c in df.columns]\n",
    "    df.columns = new_col_names\n",
    "    #df = df.rename(columns={c: c[5:] for c in df.columns})\n",
    "    \n",
    "    df = df.div(df.sum(axis=1), axis=0) # Normalize by row\n",
    "    mean_vals = df.mean().rename(\"Average\")\n",
    "    dfs[i] = pd.concat([df, pd.DataFrame(mean_vals).transpose()])\n",
    "\n",
    "col_map = [(new_col_names[i] + ':\\t' + original_col_names[i]) for i in range(len(original_col_names))]\n",
    "for d in dfs:\n",
    "    print(d.shape)"
   ]
  },
  {
   "cell_type": "code",
   "execution_count": 4,
   "metadata": {},
   "outputs": [
    {
     "data": {
      "text/html": [
       "<div>\n",
       "<style scoped>\n",
       "    .dataframe tbody tr th:only-of-type {\n",
       "        vertical-align: middle;\n",
       "    }\n",
       "\n",
       "    .dataframe tbody tr th {\n",
       "        vertical-align: top;\n",
       "    }\n",
       "\n",
       "    .dataframe thead th {\n",
       "        text-align: right;\n",
       "    }\n",
       "</style>\n",
       "<table border=\"1\" class=\"dataframe\">\n",
       "  <thead>\n",
       "    <tr style=\"text-align: right;\">\n",
       "      <th></th>\n",
       "      <th>Player</th>\n",
       "      <th>FIBA_Cluster</th>\n",
       "      <th>NBA_Cluster</th>\n",
       "      <th>INTL_Cluster</th>\n",
       "    </tr>\n",
       "  </thead>\n",
       "  <tbody>\n",
       "    <tr>\n",
       "      <th>0</th>\n",
       "      <td>Bogdan Bogdanovic</td>\n",
       "      <td>1.0</td>\n",
       "      <td>1.0</td>\n",
       "      <td>1.0</td>\n",
       "    </tr>\n",
       "    <tr>\n",
       "      <th>1</th>\n",
       "      <td>Luis Scola</td>\n",
       "      <td>5.0</td>\n",
       "      <td>0.0</td>\n",
       "      <td>5.0</td>\n",
       "    </tr>\n",
       "    <tr>\n",
       "      <th>2</th>\n",
       "      <td>Facundo Campazzo</td>\n",
       "      <td>2.0</td>\n",
       "      <td>NaN</td>\n",
       "      <td>2.0</td>\n",
       "    </tr>\n",
       "    <tr>\n",
       "      <th>3</th>\n",
       "      <td>Mantas Kalnietis</td>\n",
       "      <td>2.0</td>\n",
       "      <td>NaN</td>\n",
       "      <td>2.0</td>\n",
       "    </tr>\n",
       "    <tr>\n",
       "      <th>4</th>\n",
       "      <td>Bojan Bogdanovic</td>\n",
       "      <td>6.0</td>\n",
       "      <td>6.0</td>\n",
       "      <td>1.0</td>\n",
       "    </tr>\n",
       "    <tr>\n",
       "      <th>...</th>\n",
       "      <td>...</td>\n",
       "      <td>...</td>\n",
       "      <td>...</td>\n",
       "      <td>...</td>\n",
       "    </tr>\n",
       "    <tr>\n",
       "      <th>5239</th>\n",
       "      <td>Nobel Boungou Colo</td>\n",
       "      <td>NaN</td>\n",
       "      <td>NaN</td>\n",
       "      <td>6.0</td>\n",
       "    </tr>\n",
       "    <tr>\n",
       "      <th>5240</th>\n",
       "      <td>Davis Geks</td>\n",
       "      <td>NaN</td>\n",
       "      <td>NaN</td>\n",
       "      <td>6.0</td>\n",
       "    </tr>\n",
       "    <tr>\n",
       "      <th>5241</th>\n",
       "      <td>Arizona Reid</td>\n",
       "      <td>NaN</td>\n",
       "      <td>NaN</td>\n",
       "      <td>5.0</td>\n",
       "    </tr>\n",
       "    <tr>\n",
       "      <th>5242</th>\n",
       "      <td>Jimmy Gavin</td>\n",
       "      <td>NaN</td>\n",
       "      <td>NaN</td>\n",
       "      <td>2.0</td>\n",
       "    </tr>\n",
       "    <tr>\n",
       "      <th>5243</th>\n",
       "      <td>Anthony Di Leo</td>\n",
       "      <td>NaN</td>\n",
       "      <td>NaN</td>\n",
       "      <td>1.0</td>\n",
       "    </tr>\n",
       "  </tbody>\n",
       "</table>\n",
       "<p>5244 rows × 4 columns</p>\n",
       "</div>"
      ],
      "text/plain": [
       "                  Player  FIBA_Cluster  NBA_Cluster  INTL_Cluster\n",
       "0      Bogdan Bogdanovic           1.0          1.0           1.0\n",
       "1             Luis Scola           5.0          0.0           5.0\n",
       "2       Facundo Campazzo           2.0          NaN           2.0\n",
       "3       Mantas Kalnietis           2.0          NaN           2.0\n",
       "4       Bojan Bogdanovic           6.0          6.0           1.0\n",
       "...                  ...           ...          ...           ...\n",
       "5239  Nobel Boungou Colo           NaN          NaN           6.0\n",
       "5240          Davis Geks           NaN          NaN           6.0\n",
       "5241        Arizona Reid           NaN          NaN           5.0\n",
       "5242         Jimmy Gavin           NaN          NaN           2.0\n",
       "5243      Anthony Di Leo           NaN          NaN           1.0\n",
       "\n",
       "[5244 rows x 4 columns]"
      ]
     },
     "execution_count": 4,
     "metadata": {},
     "output_type": "execute_result"
    }
   ],
   "source": [
    "clusters_df = pd.concat(cluster_series, axis=1)\n",
    "clusters_df = clusters_df.reset_index().rename(columns={'index': 'Player'})\n",
    "labels = ['Stretch bigs', 'Playmakers', 'Ball handlers', 'Driving bigs', 'Shooters', 'Low-post bigs', 'Off-ball wings']\n",
    "labels = [labels[i] + ' (' + str(i) + ')' for i in range(len(labels))]\n",
    "clusters_df"
   ]
  },
  {
   "cell_type": "code",
   "execution_count": 37,
   "metadata": {},
   "outputs": [
    {
     "data": {
      "text/html": [
       "<div>\n",
       "<style scoped>\n",
       "    .dataframe tbody tr th:only-of-type {\n",
       "        vertical-align: middle;\n",
       "    }\n",
       "\n",
       "    .dataframe tbody tr th {\n",
       "        vertical-align: top;\n",
       "    }\n",
       "\n",
       "    .dataframe thead th {\n",
       "        text-align: right;\n",
       "    }\n",
       "</style>\n",
       "<table border=\"1\" class=\"dataframe\">\n",
       "  <thead>\n",
       "    <tr style=\"text-align: right;\">\n",
       "      <th></th>\n",
       "      <th>0</th>\n",
       "      <th>1</th>\n",
       "      <th>2</th>\n",
       "      <th>3</th>\n",
       "      <th>4</th>\n",
       "      <th>5</th>\n",
       "      <th>6</th>\n",
       "    </tr>\n",
       "  </thead>\n",
       "  <tbody>\n",
       "    <tr>\n",
       "      <th>BH</th>\n",
       "      <td>0.019403</td>\n",
       "      <td>0.419207</td>\n",
       "      <td>0.595497</td>\n",
       "      <td>0.002456</td>\n",
       "      <td>0.057168</td>\n",
       "      <td>0.002820</td>\n",
       "      <td>0.216384</td>\n",
       "    </tr>\n",
       "    <tr>\n",
       "      <th>SU</th>\n",
       "      <td>0.259131</td>\n",
       "      <td>0.188883</td>\n",
       "      <td>0.128285</td>\n",
       "      <td>0.073625</td>\n",
       "      <td>0.411540</td>\n",
       "      <td>0.073507</td>\n",
       "      <td>0.275954</td>\n",
       "    </tr>\n",
       "    <tr>\n",
       "      <th>TR</th>\n",
       "      <td>0.105021</td>\n",
       "      <td>0.127928</td>\n",
       "      <td>0.090012</td>\n",
       "      <td>0.070276</td>\n",
       "      <td>0.137154</td>\n",
       "      <td>0.055147</td>\n",
       "      <td>0.160798</td>\n",
       "    </tr>\n",
       "    <tr>\n",
       "      <th>IS</th>\n",
       "      <td>0.051340</td>\n",
       "      <td>0.090431</td>\n",
       "      <td>0.086280</td>\n",
       "      <td>0.017541</td>\n",
       "      <td>0.036200</td>\n",
       "      <td>0.024284</td>\n",
       "      <td>0.067466</td>\n",
       "    </tr>\n",
       "    <tr>\n",
       "      <th>PU</th>\n",
       "      <td>0.169476</td>\n",
       "      <td>0.016494</td>\n",
       "      <td>0.005910</td>\n",
       "      <td>0.157157</td>\n",
       "      <td>0.046842</td>\n",
       "      <td>0.357566</td>\n",
       "      <td>0.028341</td>\n",
       "    </tr>\n",
       "    <tr>\n",
       "      <th>RM</th>\n",
       "      <td>0.110060</td>\n",
       "      <td>0.001256</td>\n",
       "      <td>0.000381</td>\n",
       "      <td>0.215006</td>\n",
       "      <td>0.042102</td>\n",
       "      <td>0.152968</td>\n",
       "      <td>0.005115</td>\n",
       "    </tr>\n",
       "    <tr>\n",
       "      <th>CT</th>\n",
       "      <td>0.112502</td>\n",
       "      <td>0.027349</td>\n",
       "      <td>0.013233</td>\n",
       "      <td>0.214083</td>\n",
       "      <td>0.078013</td>\n",
       "      <td>0.152379</td>\n",
       "      <td>0.047195</td>\n",
       "    </tr>\n",
       "    <tr>\n",
       "      <th>OR</th>\n",
       "      <td>0.136909</td>\n",
       "      <td>0.045000</td>\n",
       "      <td>0.029437</td>\n",
       "      <td>0.243829</td>\n",
       "      <td>0.116625</td>\n",
       "      <td>0.172986</td>\n",
       "      <td>0.069168</td>\n",
       "    </tr>\n",
       "    <tr>\n",
       "      <th>OS</th>\n",
       "      <td>0.029205</td>\n",
       "      <td>0.051027</td>\n",
       "      <td>0.023631</td>\n",
       "      <td>0.004004</td>\n",
       "      <td>0.056208</td>\n",
       "      <td>0.006816</td>\n",
       "      <td>0.090220</td>\n",
       "    </tr>\n",
       "    <tr>\n",
       "      <th>HO</th>\n",
       "      <td>0.006952</td>\n",
       "      <td>0.032425</td>\n",
       "      <td>0.027332</td>\n",
       "      <td>0.002023</td>\n",
       "      <td>0.018149</td>\n",
       "      <td>0.001527</td>\n",
       "      <td>0.039359</td>\n",
       "    </tr>\n",
       "  </tbody>\n",
       "</table>\n",
       "</div>"
      ],
      "text/plain": [
       "           0         1         2         3         4         5         6\n",
       "BH  0.019403  0.419207  0.595497  0.002456  0.057168  0.002820  0.216384\n",
       "SU  0.259131  0.188883  0.128285  0.073625  0.411540  0.073507  0.275954\n",
       "TR  0.105021  0.127928  0.090012  0.070276  0.137154  0.055147  0.160798\n",
       "IS  0.051340  0.090431  0.086280  0.017541  0.036200  0.024284  0.067466\n",
       "PU  0.169476  0.016494  0.005910  0.157157  0.046842  0.357566  0.028341\n",
       "RM  0.110060  0.001256  0.000381  0.215006  0.042102  0.152968  0.005115\n",
       "CT  0.112502  0.027349  0.013233  0.214083  0.078013  0.152379  0.047195\n",
       "OR  0.136909  0.045000  0.029437  0.243829  0.116625  0.172986  0.069168\n",
       "OS  0.029205  0.051027  0.023631  0.004004  0.056208  0.006816  0.090220\n",
       "HO  0.006952  0.032425  0.027332  0.002023  0.018149  0.001527  0.039359"
      ]
     },
     "execution_count": 37,
     "metadata": {},
     "output_type": "execute_result"
    }
   ],
   "source": [
    "cluster_num = 3\n",
    "dfs_by_cluster = []\n",
    "for i in range(7):\n",
    "    dfs_by_cluster.append(pd.DataFrame())\n",
    "    for j in range(3):\n",
    "        s = (cluster_series[j] == i)\n",
    "        dfs_by_cluster[i] = pd.concat([dfs_by_cluster[i], dfs[j].loc[s.index[s]]])\n",
    "    dfs_by_cluster[i] = dfs_by_cluster[i].mean()\n",
    "df_by_cluster = pd.concat(dfs_by_cluster, axis=1)\n",
    "df_by_cluster"
   ]
  },
  {
   "cell_type": "code",
   "execution_count": 5,
   "metadata": {},
   "outputs": [],
   "source": [
    "def get_polar_plots_league(df, players):\n",
    "    \"\"\"\n",
    "    df: A dataframe with the play type distribution for each player in a particular league\n",
    "    players: A list of players to look up, possibly including 'Average'\n",
    "    If a player is not in the dataframe, does not plot this player\n",
    "    \"\"\"\n",
    "    global colours\n",
    "    \n",
    "    if not players: # No players passed\n",
    "        return px.line_polar(r = [0 for i in range(10)], theta = df.columns)\n",
    "    \n",
    "    valid_players = df.index.intersection(players)\n",
    "    \n",
    "    gs = []\n",
    "    for i in range(len(players)):\n",
    "        p = players[i]\n",
    "        if p in valid_players:\n",
    "            r = df.loc[p].tolist()\n",
    "            theta = df.columns.tolist()\n",
    "            g = go.Scatterpolar(r = r + [r[0]], theta = theta + [theta[0]], mode = 'lines', name = p,\n",
    "                               line = {'color': colours[i%10]}, legendgroup = i, showlegend = (i not in existing_groups))\n",
    "            existing_groups.add(i)\n",
    "            gs.append(g)\n",
    "\n",
    "    return tuple(gs)"
   ]
  },
  {
   "cell_type": "code",
   "execution_count": 67,
   "metadata": {},
   "outputs": [
    {
     "data": {
      "application/vnd.plotly.v1+json": {
       "config": {
        "plotlyServerURL": "https://plot.ly"
       },
       "data": [
        {
         "legendgroup": "0",
         "line": {
          "color": "#1f77b4"
         },
         "mode": "lines",
         "name": "Stretch bigs (0)",
         "r": [
          0.019403080036176263,
          0.2591311493131083,
          0.1050210820353909,
          0.051340260878664924,
          0.1694757365284735,
          0.11006043505085171,
          0.11250196398225339,
          0.13690907758241141,
          0.029204907937032717,
          0.006952306655636825,
          0.019403080036176263
         ],
         "theta": [
          "BH",
          "SU",
          "TR",
          "IS",
          "PU",
          "RM",
          "CT",
          "OR",
          "OS",
          "HO",
          "BH"
         ],
         "type": "scatterpolar"
        },
        {
         "legendgroup": "1",
         "line": {
          "color": "#ff7f0e"
         },
         "mode": "lines",
         "name": "Playmakers (1)",
         "r": [
          0.4192066370152828,
          0.18888321713240833,
          0.12792835390076682,
          0.0904305048839305,
          0.01649411047938527,
          0.0012560031773199989,
          0.02734879198119353,
          0.04500037119819521,
          0.051027228834230345,
          0.03242478139728725,
          0.4192066370152828
         ],
         "theta": [
          "BH",
          "SU",
          "TR",
          "IS",
          "PU",
          "RM",
          "CT",
          "OR",
          "OS",
          "HO",
          "BH"
         ],
         "type": "scatterpolar"
        },
        {
         "legendgroup": "2",
         "line": {
          "color": "#2ca02c"
         },
         "mode": "lines",
         "name": "Ball handlers (2)",
         "r": [
          0.5954967670112284,
          0.12828546746014524,
          0.09001230366101359,
          0.08628038499360893,
          0.005910232302462293,
          0.000380890422175812,
          0.013233058497740691,
          0.029437195868595896,
          0.023631337680065933,
          0.027332362102964504,
          0.5954967670112284
         ],
         "theta": [
          "BH",
          "SU",
          "TR",
          "IS",
          "PU",
          "RM",
          "CT",
          "OR",
          "OS",
          "HO",
          "BH"
         ],
         "type": "scatterpolar"
        },
        {
         "legendgroup": "3",
         "line": {
          "color": "#d62728"
         },
         "mode": "lines",
         "name": "Driving bigs (3)",
         "r": [
          0.0024562410547679186,
          0.0736248012969322,
          0.07027617429546502,
          0.01754136648745325,
          0.15715728103179694,
          0.2150062544120432,
          0.21408282457219083,
          0.2438286144571671,
          0.004003781216972641,
          0.0020226611752115096,
          0.0024562410547679186
         ],
         "theta": [
          "BH",
          "SU",
          "TR",
          "IS",
          "PU",
          "RM",
          "CT",
          "OR",
          "OS",
          "HO",
          "BH"
         ],
         "type": "scatterpolar"
        },
        {
         "legendgroup": "4",
         "line": {
          "color": "#9467bd"
         },
         "mode": "lines",
         "name": "Shooters (4)",
         "r": [
          0.05716791883542162,
          0.41154027524920944,
          0.13715414727203976,
          0.03620007090264992,
          0.04684200030922774,
          0.04210175439600096,
          0.07801272853088148,
          0.11662452426997824,
          0.05620756480802079,
          0.018149015426571456,
          0.05716791883542162
         ],
         "theta": [
          "BH",
          "SU",
          "TR",
          "IS",
          "PU",
          "RM",
          "CT",
          "OR",
          "OS",
          "HO",
          "BH"
         ],
         "type": "scatterpolar"
        },
        {
         "legendgroup": "5",
         "line": {
          "color": "#8c564b"
         },
         "mode": "lines",
         "name": "Low-post bigs (5)",
         "r": [
          0.002819965276474211,
          0.07350732122818843,
          0.05514668971106352,
          0.024284105138097763,
          0.3575656665268275,
          0.15296818337022922,
          0.1523787981916007,
          0.17298619600139195,
          0.006816111153133651,
          0.0015269634029936073,
          0.002819965276474211
         ],
         "theta": [
          "BH",
          "SU",
          "TR",
          "IS",
          "PU",
          "RM",
          "CT",
          "OR",
          "OS",
          "HO",
          "BH"
         ],
         "type": "scatterpolar"
        },
        {
         "legendgroup": "6",
         "line": {
          "color": "#e377c2"
         },
         "mode": "lines",
         "name": "Off-ball wings (6)",
         "r": [
          0.216383926432461,
          0.275953638091316,
          0.16079817552482903,
          0.0674664423988398,
          0.02834069455683375,
          0.005114656964637606,
          0.04719516198378035,
          0.069168388932007,
          0.0902201272468677,
          0.03935878786842739,
          0.216383926432461
         ],
         "theta": [
          "BH",
          "SU",
          "TR",
          "IS",
          "PU",
          "RM",
          "CT",
          "OR",
          "OS",
          "HO",
          "BH"
         ],
         "type": "scatterpolar"
        }
       ],
       "layout": {
        "legend": {
         "tracegroupgap": 0
        },
        "margin": {
         "t": 60
        },
        "polar": {
         "angularaxis": {
          "direction": "counterclockwise",
          "rotation": 0
         }
        },
        "template": {
         "data": {
          "bar": [
           {
            "error_x": {
             "color": "#2a3f5f"
            },
            "error_y": {
             "color": "#2a3f5f"
            },
            "marker": {
             "line": {
              "color": "#E5ECF6",
              "width": 0.5
             }
            },
            "type": "bar"
           }
          ],
          "barpolar": [
           {
            "marker": {
             "line": {
              "color": "#E5ECF6",
              "width": 0.5
             }
            },
            "type": "barpolar"
           }
          ],
          "carpet": [
           {
            "aaxis": {
             "endlinecolor": "#2a3f5f",
             "gridcolor": "white",
             "linecolor": "white",
             "minorgridcolor": "white",
             "startlinecolor": "#2a3f5f"
            },
            "baxis": {
             "endlinecolor": "#2a3f5f",
             "gridcolor": "white",
             "linecolor": "white",
             "minorgridcolor": "white",
             "startlinecolor": "#2a3f5f"
            },
            "type": "carpet"
           }
          ],
          "choropleth": [
           {
            "colorbar": {
             "outlinewidth": 0,
             "ticks": ""
            },
            "type": "choropleth"
           }
          ],
          "contour": [
           {
            "colorbar": {
             "outlinewidth": 0,
             "ticks": ""
            },
            "colorscale": [
             [
              0,
              "#0d0887"
             ],
             [
              0.1111111111111111,
              "#46039f"
             ],
             [
              0.2222222222222222,
              "#7201a8"
             ],
             [
              0.3333333333333333,
              "#9c179e"
             ],
             [
              0.4444444444444444,
              "#bd3786"
             ],
             [
              0.5555555555555556,
              "#d8576b"
             ],
             [
              0.6666666666666666,
              "#ed7953"
             ],
             [
              0.7777777777777778,
              "#fb9f3a"
             ],
             [
              0.8888888888888888,
              "#fdca26"
             ],
             [
              1,
              "#f0f921"
             ]
            ],
            "type": "contour"
           }
          ],
          "contourcarpet": [
           {
            "colorbar": {
             "outlinewidth": 0,
             "ticks": ""
            },
            "type": "contourcarpet"
           }
          ],
          "heatmap": [
           {
            "colorbar": {
             "outlinewidth": 0,
             "ticks": ""
            },
            "colorscale": [
             [
              0,
              "#0d0887"
             ],
             [
              0.1111111111111111,
              "#46039f"
             ],
             [
              0.2222222222222222,
              "#7201a8"
             ],
             [
              0.3333333333333333,
              "#9c179e"
             ],
             [
              0.4444444444444444,
              "#bd3786"
             ],
             [
              0.5555555555555556,
              "#d8576b"
             ],
             [
              0.6666666666666666,
              "#ed7953"
             ],
             [
              0.7777777777777778,
              "#fb9f3a"
             ],
             [
              0.8888888888888888,
              "#fdca26"
             ],
             [
              1,
              "#f0f921"
             ]
            ],
            "type": "heatmap"
           }
          ],
          "heatmapgl": [
           {
            "colorbar": {
             "outlinewidth": 0,
             "ticks": ""
            },
            "colorscale": [
             [
              0,
              "#0d0887"
             ],
             [
              0.1111111111111111,
              "#46039f"
             ],
             [
              0.2222222222222222,
              "#7201a8"
             ],
             [
              0.3333333333333333,
              "#9c179e"
             ],
             [
              0.4444444444444444,
              "#bd3786"
             ],
             [
              0.5555555555555556,
              "#d8576b"
             ],
             [
              0.6666666666666666,
              "#ed7953"
             ],
             [
              0.7777777777777778,
              "#fb9f3a"
             ],
             [
              0.8888888888888888,
              "#fdca26"
             ],
             [
              1,
              "#f0f921"
             ]
            ],
            "type": "heatmapgl"
           }
          ],
          "histogram": [
           {
            "marker": {
             "colorbar": {
              "outlinewidth": 0,
              "ticks": ""
             }
            },
            "type": "histogram"
           }
          ],
          "histogram2d": [
           {
            "colorbar": {
             "outlinewidth": 0,
             "ticks": ""
            },
            "colorscale": [
             [
              0,
              "#0d0887"
             ],
             [
              0.1111111111111111,
              "#46039f"
             ],
             [
              0.2222222222222222,
              "#7201a8"
             ],
             [
              0.3333333333333333,
              "#9c179e"
             ],
             [
              0.4444444444444444,
              "#bd3786"
             ],
             [
              0.5555555555555556,
              "#d8576b"
             ],
             [
              0.6666666666666666,
              "#ed7953"
             ],
             [
              0.7777777777777778,
              "#fb9f3a"
             ],
             [
              0.8888888888888888,
              "#fdca26"
             ],
             [
              1,
              "#f0f921"
             ]
            ],
            "type": "histogram2d"
           }
          ],
          "histogram2dcontour": [
           {
            "colorbar": {
             "outlinewidth": 0,
             "ticks": ""
            },
            "colorscale": [
             [
              0,
              "#0d0887"
             ],
             [
              0.1111111111111111,
              "#46039f"
             ],
             [
              0.2222222222222222,
              "#7201a8"
             ],
             [
              0.3333333333333333,
              "#9c179e"
             ],
             [
              0.4444444444444444,
              "#bd3786"
             ],
             [
              0.5555555555555556,
              "#d8576b"
             ],
             [
              0.6666666666666666,
              "#ed7953"
             ],
             [
              0.7777777777777778,
              "#fb9f3a"
             ],
             [
              0.8888888888888888,
              "#fdca26"
             ],
             [
              1,
              "#f0f921"
             ]
            ],
            "type": "histogram2dcontour"
           }
          ],
          "mesh3d": [
           {
            "colorbar": {
             "outlinewidth": 0,
             "ticks": ""
            },
            "type": "mesh3d"
           }
          ],
          "parcoords": [
           {
            "line": {
             "colorbar": {
              "outlinewidth": 0,
              "ticks": ""
             }
            },
            "type": "parcoords"
           }
          ],
          "pie": [
           {
            "automargin": true,
            "type": "pie"
           }
          ],
          "scatter": [
           {
            "marker": {
             "colorbar": {
              "outlinewidth": 0,
              "ticks": ""
             }
            },
            "type": "scatter"
           }
          ],
          "scatter3d": [
           {
            "line": {
             "colorbar": {
              "outlinewidth": 0,
              "ticks": ""
             }
            },
            "marker": {
             "colorbar": {
              "outlinewidth": 0,
              "ticks": ""
             }
            },
            "type": "scatter3d"
           }
          ],
          "scattercarpet": [
           {
            "marker": {
             "colorbar": {
              "outlinewidth": 0,
              "ticks": ""
             }
            },
            "type": "scattercarpet"
           }
          ],
          "scattergeo": [
           {
            "marker": {
             "colorbar": {
              "outlinewidth": 0,
              "ticks": ""
             }
            },
            "type": "scattergeo"
           }
          ],
          "scattergl": [
           {
            "marker": {
             "colorbar": {
              "outlinewidth": 0,
              "ticks": ""
             }
            },
            "type": "scattergl"
           }
          ],
          "scattermapbox": [
           {
            "marker": {
             "colorbar": {
              "outlinewidth": 0,
              "ticks": ""
             }
            },
            "type": "scattermapbox"
           }
          ],
          "scatterpolar": [
           {
            "marker": {
             "colorbar": {
              "outlinewidth": 0,
              "ticks": ""
             }
            },
            "type": "scatterpolar"
           }
          ],
          "scatterpolargl": [
           {
            "marker": {
             "colorbar": {
              "outlinewidth": 0,
              "ticks": ""
             }
            },
            "type": "scatterpolargl"
           }
          ],
          "scatterternary": [
           {
            "marker": {
             "colorbar": {
              "outlinewidth": 0,
              "ticks": ""
             }
            },
            "type": "scatterternary"
           }
          ],
          "surface": [
           {
            "colorbar": {
             "outlinewidth": 0,
             "ticks": ""
            },
            "colorscale": [
             [
              0,
              "#0d0887"
             ],
             [
              0.1111111111111111,
              "#46039f"
             ],
             [
              0.2222222222222222,
              "#7201a8"
             ],
             [
              0.3333333333333333,
              "#9c179e"
             ],
             [
              0.4444444444444444,
              "#bd3786"
             ],
             [
              0.5555555555555556,
              "#d8576b"
             ],
             [
              0.6666666666666666,
              "#ed7953"
             ],
             [
              0.7777777777777778,
              "#fb9f3a"
             ],
             [
              0.8888888888888888,
              "#fdca26"
             ],
             [
              1,
              "#f0f921"
             ]
            ],
            "type": "surface"
           }
          ],
          "table": [
           {
            "cells": {
             "fill": {
              "color": "#EBF0F8"
             },
             "line": {
              "color": "white"
             }
            },
            "header": {
             "fill": {
              "color": "#C8D4E3"
             },
             "line": {
              "color": "white"
             }
            },
            "type": "table"
           }
          ]
         },
         "layout": {
          "annotationdefaults": {
           "arrowcolor": "#2a3f5f",
           "arrowhead": 0,
           "arrowwidth": 1
          },
          "coloraxis": {
           "colorbar": {
            "outlinewidth": 0,
            "ticks": ""
           }
          },
          "colorscale": {
           "diverging": [
            [
             0,
             "#8e0152"
            ],
            [
             0.1,
             "#c51b7d"
            ],
            [
             0.2,
             "#de77ae"
            ],
            [
             0.3,
             "#f1b6da"
            ],
            [
             0.4,
             "#fde0ef"
            ],
            [
             0.5,
             "#f7f7f7"
            ],
            [
             0.6,
             "#e6f5d0"
            ],
            [
             0.7,
             "#b8e186"
            ],
            [
             0.8,
             "#7fbc41"
            ],
            [
             0.9,
             "#4d9221"
            ],
            [
             1,
             "#276419"
            ]
           ],
           "sequential": [
            [
             0,
             "#0d0887"
            ],
            [
             0.1111111111111111,
             "#46039f"
            ],
            [
             0.2222222222222222,
             "#7201a8"
            ],
            [
             0.3333333333333333,
             "#9c179e"
            ],
            [
             0.4444444444444444,
             "#bd3786"
            ],
            [
             0.5555555555555556,
             "#d8576b"
            ],
            [
             0.6666666666666666,
             "#ed7953"
            ],
            [
             0.7777777777777778,
             "#fb9f3a"
            ],
            [
             0.8888888888888888,
             "#fdca26"
            ],
            [
             1,
             "#f0f921"
            ]
           ],
           "sequentialminus": [
            [
             0,
             "#0d0887"
            ],
            [
             0.1111111111111111,
             "#46039f"
            ],
            [
             0.2222222222222222,
             "#7201a8"
            ],
            [
             0.3333333333333333,
             "#9c179e"
            ],
            [
             0.4444444444444444,
             "#bd3786"
            ],
            [
             0.5555555555555556,
             "#d8576b"
            ],
            [
             0.6666666666666666,
             "#ed7953"
            ],
            [
             0.7777777777777778,
             "#fb9f3a"
            ],
            [
             0.8888888888888888,
             "#fdca26"
            ],
            [
             1,
             "#f0f921"
            ]
           ]
          },
          "colorway": [
           "#636efa",
           "#EF553B",
           "#00cc96",
           "#ab63fa",
           "#FFA15A",
           "#19d3f3",
           "#FF6692",
           "#B6E880",
           "#FF97FF",
           "#FECB52"
          ],
          "font": {
           "color": "#2a3f5f"
          },
          "geo": {
           "bgcolor": "white",
           "lakecolor": "white",
           "landcolor": "#E5ECF6",
           "showlakes": true,
           "showland": true,
           "subunitcolor": "white"
          },
          "hoverlabel": {
           "align": "left"
          },
          "hovermode": "closest",
          "mapbox": {
           "style": "light"
          },
          "paper_bgcolor": "white",
          "plot_bgcolor": "#E5ECF6",
          "polar": {
           "angularaxis": {
            "gridcolor": "white",
            "linecolor": "white",
            "ticks": ""
           },
           "bgcolor": "#E5ECF6",
           "radialaxis": {
            "gridcolor": "white",
            "linecolor": "white",
            "ticks": ""
           }
          },
          "scene": {
           "xaxis": {
            "backgroundcolor": "#E5ECF6",
            "gridcolor": "white",
            "gridwidth": 2,
            "linecolor": "white",
            "showbackground": true,
            "ticks": "",
            "zerolinecolor": "white"
           },
           "yaxis": {
            "backgroundcolor": "#E5ECF6",
            "gridcolor": "white",
            "gridwidth": 2,
            "linecolor": "white",
            "showbackground": true,
            "ticks": "",
            "zerolinecolor": "white"
           },
           "zaxis": {
            "backgroundcolor": "#E5ECF6",
            "gridcolor": "white",
            "gridwidth": 2,
            "linecolor": "white",
            "showbackground": true,
            "ticks": "",
            "zerolinecolor": "white"
           }
          },
          "shapedefaults": {
           "line": {
            "color": "#2a3f5f"
           }
          },
          "ternary": {
           "aaxis": {
            "gridcolor": "white",
            "linecolor": "white",
            "ticks": ""
           },
           "baxis": {
            "gridcolor": "white",
            "linecolor": "white",
            "ticks": ""
           },
           "bgcolor": "#E5ECF6",
           "caxis": {
            "gridcolor": "white",
            "linecolor": "white",
            "ticks": ""
           }
          },
          "title": {
           "x": 0.05
          },
          "xaxis": {
           "automargin": true,
           "gridcolor": "white",
           "linecolor": "white",
           "ticks": "",
           "title": {
            "standoff": 15
           },
           "zerolinecolor": "white",
           "zerolinewidth": 2
          },
          "yaxis": {
           "automargin": true,
           "gridcolor": "white",
           "linecolor": "white",
           "ticks": "",
           "title": {
            "standoff": 15
           },
           "zerolinecolor": "white",
           "zerolinewidth": 2
          }
         }
        },
        "xaxis": {
         "anchor": "y",
         "domain": [
          0,
          1
         ]
        },
        "yaxis": {
         "anchor": "x",
         "domain": [
          0,
          1
         ]
        }
       }
      },
      "text/html": [
       "<div>                            <div id=\"1852db71-2bf7-416e-8d1b-e2889e6b31d7\" class=\"plotly-graph-div\" style=\"height:525px; width:100%;\"></div>            <script type=\"text/javascript\">                require([\"plotly\"], function(Plotly) {                    window.PLOTLYENV=window.PLOTLYENV || {};                                    if (document.getElementById(\"1852db71-2bf7-416e-8d1b-e2889e6b31d7\")) {                    Plotly.newPlot(                        \"1852db71-2bf7-416e-8d1b-e2889e6b31d7\",                        [{\"legendgroup\": \"0\", \"line\": {\"color\": \"#1f77b4\"}, \"mode\": \"lines\", \"name\": \"Stretch bigs (0)\", \"r\": [0.019403080036176263, 0.2591311493131083, 0.1050210820353909, 0.051340260878664924, 0.1694757365284735, 0.11006043505085171, 0.11250196398225339, 0.13690907758241141, 0.029204907937032717, 0.006952306655636825, 0.019403080036176263], \"theta\": [\"BH\", \"SU\", \"TR\", \"IS\", \"PU\", \"RM\", \"CT\", \"OR\", \"OS\", \"HO\", \"BH\"], \"type\": \"scatterpolar\"}, {\"legendgroup\": \"1\", \"line\": {\"color\": \"#ff7f0e\"}, \"mode\": \"lines\", \"name\": \"Playmakers (1)\", \"r\": [0.4192066370152828, 0.18888321713240833, 0.12792835390076682, 0.0904305048839305, 0.01649411047938527, 0.0012560031773199989, 0.02734879198119353, 0.04500037119819521, 0.051027228834230345, 0.03242478139728725, 0.4192066370152828], \"theta\": [\"BH\", \"SU\", \"TR\", \"IS\", \"PU\", \"RM\", \"CT\", \"OR\", \"OS\", \"HO\", \"BH\"], \"type\": \"scatterpolar\"}, {\"legendgroup\": \"2\", \"line\": {\"color\": \"#2ca02c\"}, \"mode\": \"lines\", \"name\": \"Ball handlers (2)\", \"r\": [0.5954967670112284, 0.12828546746014524, 0.09001230366101359, 0.08628038499360893, 0.005910232302462293, 0.000380890422175812, 0.013233058497740691, 0.029437195868595896, 0.023631337680065933, 0.027332362102964504, 0.5954967670112284], \"theta\": [\"BH\", \"SU\", \"TR\", \"IS\", \"PU\", \"RM\", \"CT\", \"OR\", \"OS\", \"HO\", \"BH\"], \"type\": \"scatterpolar\"}, {\"legendgroup\": \"3\", \"line\": {\"color\": \"#d62728\"}, \"mode\": \"lines\", \"name\": \"Driving bigs (3)\", \"r\": [0.0024562410547679186, 0.0736248012969322, 0.07027617429546502, 0.01754136648745325, 0.15715728103179694, 0.2150062544120432, 0.21408282457219083, 0.2438286144571671, 0.004003781216972641, 0.0020226611752115096, 0.0024562410547679186], \"theta\": [\"BH\", \"SU\", \"TR\", \"IS\", \"PU\", \"RM\", \"CT\", \"OR\", \"OS\", \"HO\", \"BH\"], \"type\": \"scatterpolar\"}, {\"legendgroup\": \"4\", \"line\": {\"color\": \"#9467bd\"}, \"mode\": \"lines\", \"name\": \"Shooters (4)\", \"r\": [0.05716791883542162, 0.41154027524920944, 0.13715414727203976, 0.03620007090264992, 0.04684200030922774, 0.04210175439600096, 0.07801272853088148, 0.11662452426997824, 0.05620756480802079, 0.018149015426571456, 0.05716791883542162], \"theta\": [\"BH\", \"SU\", \"TR\", \"IS\", \"PU\", \"RM\", \"CT\", \"OR\", \"OS\", \"HO\", \"BH\"], \"type\": \"scatterpolar\"}, {\"legendgroup\": \"5\", \"line\": {\"color\": \"#8c564b\"}, \"mode\": \"lines\", \"name\": \"Low-post bigs (5)\", \"r\": [0.002819965276474211, 0.07350732122818843, 0.05514668971106352, 0.024284105138097763, 0.3575656665268275, 0.15296818337022922, 0.1523787981916007, 0.17298619600139195, 0.006816111153133651, 0.0015269634029936073, 0.002819965276474211], \"theta\": [\"BH\", \"SU\", \"TR\", \"IS\", \"PU\", \"RM\", \"CT\", \"OR\", \"OS\", \"HO\", \"BH\"], \"type\": \"scatterpolar\"}, {\"legendgroup\": \"6\", \"line\": {\"color\": \"#e377c2\"}, \"mode\": \"lines\", \"name\": \"Off-ball wings (6)\", \"r\": [0.216383926432461, 0.275953638091316, 0.16079817552482903, 0.0674664423988398, 0.02834069455683375, 0.005114656964637606, 0.04719516198378035, 0.069168388932007, 0.0902201272468677, 0.03935878786842739, 0.216383926432461], \"theta\": [\"BH\", \"SU\", \"TR\", \"IS\", \"PU\", \"RM\", \"CT\", \"OR\", \"OS\", \"HO\", \"BH\"], \"type\": \"scatterpolar\"}],                        {\"legend\": {\"tracegroupgap\": 0}, \"margin\": {\"t\": 60}, \"polar\": {\"angularaxis\": {\"direction\": \"counterclockwise\", \"rotation\": 0}}, \"template\": {\"data\": {\"bar\": [{\"error_x\": {\"color\": \"#2a3f5f\"}, \"error_y\": {\"color\": \"#2a3f5f\"}, \"marker\": {\"line\": {\"color\": \"#E5ECF6\", \"width\": 0.5}}, \"type\": \"bar\"}], \"barpolar\": [{\"marker\": {\"line\": {\"color\": \"#E5ECF6\", \"width\": 0.5}}, \"type\": \"barpolar\"}], \"carpet\": [{\"aaxis\": {\"endlinecolor\": \"#2a3f5f\", \"gridcolor\": \"white\", \"linecolor\": \"white\", \"minorgridcolor\": \"white\", \"startlinecolor\": \"#2a3f5f\"}, \"baxis\": {\"endlinecolor\": \"#2a3f5f\", \"gridcolor\": \"white\", \"linecolor\": \"white\", \"minorgridcolor\": \"white\", \"startlinecolor\": \"#2a3f5f\"}, \"type\": \"carpet\"}], \"choropleth\": [{\"colorbar\": {\"outlinewidth\": 0, \"ticks\": \"\"}, \"type\": \"choropleth\"}], \"contour\": [{\"colorbar\": {\"outlinewidth\": 0, \"ticks\": \"\"}, \"colorscale\": [[0.0, \"#0d0887\"], [0.1111111111111111, \"#46039f\"], [0.2222222222222222, \"#7201a8\"], [0.3333333333333333, \"#9c179e\"], [0.4444444444444444, \"#bd3786\"], [0.5555555555555556, \"#d8576b\"], [0.6666666666666666, \"#ed7953\"], [0.7777777777777778, \"#fb9f3a\"], [0.8888888888888888, \"#fdca26\"], [1.0, \"#f0f921\"]], \"type\": \"contour\"}], \"contourcarpet\": [{\"colorbar\": {\"outlinewidth\": 0, \"ticks\": \"\"}, \"type\": \"contourcarpet\"}], \"heatmap\": [{\"colorbar\": {\"outlinewidth\": 0, \"ticks\": \"\"}, \"colorscale\": [[0.0, \"#0d0887\"], [0.1111111111111111, \"#46039f\"], [0.2222222222222222, \"#7201a8\"], [0.3333333333333333, \"#9c179e\"], [0.4444444444444444, \"#bd3786\"], [0.5555555555555556, \"#d8576b\"], [0.6666666666666666, \"#ed7953\"], [0.7777777777777778, \"#fb9f3a\"], [0.8888888888888888, \"#fdca26\"], [1.0, \"#f0f921\"]], \"type\": \"heatmap\"}], \"heatmapgl\": [{\"colorbar\": {\"outlinewidth\": 0, \"ticks\": \"\"}, \"colorscale\": [[0.0, \"#0d0887\"], [0.1111111111111111, \"#46039f\"], [0.2222222222222222, \"#7201a8\"], [0.3333333333333333, \"#9c179e\"], [0.4444444444444444, \"#bd3786\"], [0.5555555555555556, \"#d8576b\"], [0.6666666666666666, \"#ed7953\"], [0.7777777777777778, \"#fb9f3a\"], [0.8888888888888888, \"#fdca26\"], [1.0, \"#f0f921\"]], \"type\": \"heatmapgl\"}], \"histogram\": [{\"marker\": {\"colorbar\": {\"outlinewidth\": 0, \"ticks\": \"\"}}, \"type\": \"histogram\"}], \"histogram2d\": [{\"colorbar\": {\"outlinewidth\": 0, \"ticks\": \"\"}, \"colorscale\": [[0.0, \"#0d0887\"], [0.1111111111111111, \"#46039f\"], [0.2222222222222222, \"#7201a8\"], [0.3333333333333333, \"#9c179e\"], [0.4444444444444444, \"#bd3786\"], [0.5555555555555556, \"#d8576b\"], [0.6666666666666666, \"#ed7953\"], [0.7777777777777778, \"#fb9f3a\"], [0.8888888888888888, \"#fdca26\"], [1.0, \"#f0f921\"]], \"type\": \"histogram2d\"}], \"histogram2dcontour\": [{\"colorbar\": {\"outlinewidth\": 0, \"ticks\": \"\"}, \"colorscale\": [[0.0, \"#0d0887\"], [0.1111111111111111, \"#46039f\"], [0.2222222222222222, \"#7201a8\"], [0.3333333333333333, \"#9c179e\"], [0.4444444444444444, \"#bd3786\"], [0.5555555555555556, \"#d8576b\"], [0.6666666666666666, \"#ed7953\"], [0.7777777777777778, \"#fb9f3a\"], [0.8888888888888888, \"#fdca26\"], [1.0, \"#f0f921\"]], \"type\": \"histogram2dcontour\"}], \"mesh3d\": [{\"colorbar\": {\"outlinewidth\": 0, \"ticks\": \"\"}, \"type\": \"mesh3d\"}], \"parcoords\": [{\"line\": {\"colorbar\": {\"outlinewidth\": 0, \"ticks\": \"\"}}, \"type\": \"parcoords\"}], \"pie\": [{\"automargin\": true, \"type\": \"pie\"}], \"scatter\": [{\"marker\": {\"colorbar\": {\"outlinewidth\": 0, \"ticks\": \"\"}}, \"type\": \"scatter\"}], \"scatter3d\": [{\"line\": {\"colorbar\": {\"outlinewidth\": 0, \"ticks\": \"\"}}, \"marker\": {\"colorbar\": {\"outlinewidth\": 0, \"ticks\": \"\"}}, \"type\": \"scatter3d\"}], \"scattercarpet\": [{\"marker\": {\"colorbar\": {\"outlinewidth\": 0, \"ticks\": \"\"}}, \"type\": \"scattercarpet\"}], \"scattergeo\": [{\"marker\": {\"colorbar\": {\"outlinewidth\": 0, \"ticks\": \"\"}}, \"type\": \"scattergeo\"}], \"scattergl\": [{\"marker\": {\"colorbar\": {\"outlinewidth\": 0, \"ticks\": \"\"}}, \"type\": \"scattergl\"}], \"scattermapbox\": [{\"marker\": {\"colorbar\": {\"outlinewidth\": 0, \"ticks\": \"\"}}, \"type\": \"scattermapbox\"}], \"scatterpolar\": [{\"marker\": {\"colorbar\": {\"outlinewidth\": 0, \"ticks\": \"\"}}, \"type\": \"scatterpolar\"}], \"scatterpolargl\": [{\"marker\": {\"colorbar\": {\"outlinewidth\": 0, \"ticks\": \"\"}}, \"type\": \"scatterpolargl\"}], \"scatterternary\": [{\"marker\": {\"colorbar\": {\"outlinewidth\": 0, \"ticks\": \"\"}}, \"type\": \"scatterternary\"}], \"surface\": [{\"colorbar\": {\"outlinewidth\": 0, \"ticks\": \"\"}, \"colorscale\": [[0.0, \"#0d0887\"], [0.1111111111111111, \"#46039f\"], [0.2222222222222222, \"#7201a8\"], [0.3333333333333333, \"#9c179e\"], [0.4444444444444444, \"#bd3786\"], [0.5555555555555556, \"#d8576b\"], [0.6666666666666666, \"#ed7953\"], [0.7777777777777778, \"#fb9f3a\"], [0.8888888888888888, \"#fdca26\"], [1.0, \"#f0f921\"]], \"type\": \"surface\"}], \"table\": [{\"cells\": {\"fill\": {\"color\": \"#EBF0F8\"}, \"line\": {\"color\": \"white\"}}, \"header\": {\"fill\": {\"color\": \"#C8D4E3\"}, \"line\": {\"color\": \"white\"}}, \"type\": \"table\"}]}, \"layout\": {\"annotationdefaults\": {\"arrowcolor\": \"#2a3f5f\", \"arrowhead\": 0, \"arrowwidth\": 1}, \"coloraxis\": {\"colorbar\": {\"outlinewidth\": 0, \"ticks\": \"\"}}, \"colorscale\": {\"diverging\": [[0, \"#8e0152\"], [0.1, \"#c51b7d\"], [0.2, \"#de77ae\"], [0.3, \"#f1b6da\"], [0.4, \"#fde0ef\"], [0.5, \"#f7f7f7\"], [0.6, \"#e6f5d0\"], [0.7, \"#b8e186\"], [0.8, \"#7fbc41\"], [0.9, \"#4d9221\"], [1, \"#276419\"]], \"sequential\": [[0.0, \"#0d0887\"], [0.1111111111111111, \"#46039f\"], [0.2222222222222222, \"#7201a8\"], [0.3333333333333333, \"#9c179e\"], [0.4444444444444444, \"#bd3786\"], [0.5555555555555556, \"#d8576b\"], [0.6666666666666666, \"#ed7953\"], [0.7777777777777778, \"#fb9f3a\"], [0.8888888888888888, \"#fdca26\"], [1.0, \"#f0f921\"]], \"sequentialminus\": [[0.0, \"#0d0887\"], [0.1111111111111111, \"#46039f\"], [0.2222222222222222, \"#7201a8\"], [0.3333333333333333, \"#9c179e\"], [0.4444444444444444, \"#bd3786\"], [0.5555555555555556, \"#d8576b\"], [0.6666666666666666, \"#ed7953\"], [0.7777777777777778, \"#fb9f3a\"], [0.8888888888888888, \"#fdca26\"], [1.0, \"#f0f921\"]]}, \"colorway\": [\"#636efa\", \"#EF553B\", \"#00cc96\", \"#ab63fa\", \"#FFA15A\", \"#19d3f3\", \"#FF6692\", \"#B6E880\", \"#FF97FF\", \"#FECB52\"], \"font\": {\"color\": \"#2a3f5f\"}, \"geo\": {\"bgcolor\": \"white\", \"lakecolor\": \"white\", \"landcolor\": \"#E5ECF6\", \"showlakes\": true, \"showland\": true, \"subunitcolor\": \"white\"}, \"hoverlabel\": {\"align\": \"left\"}, \"hovermode\": \"closest\", \"mapbox\": {\"style\": \"light\"}, \"paper_bgcolor\": \"white\", \"plot_bgcolor\": \"#E5ECF6\", \"polar\": {\"angularaxis\": {\"gridcolor\": \"white\", \"linecolor\": \"white\", \"ticks\": \"\"}, \"bgcolor\": \"#E5ECF6\", \"radialaxis\": {\"gridcolor\": \"white\", \"linecolor\": \"white\", \"ticks\": \"\"}}, \"scene\": {\"xaxis\": {\"backgroundcolor\": \"#E5ECF6\", \"gridcolor\": \"white\", \"gridwidth\": 2, \"linecolor\": \"white\", \"showbackground\": true, \"ticks\": \"\", \"zerolinecolor\": \"white\"}, \"yaxis\": {\"backgroundcolor\": \"#E5ECF6\", \"gridcolor\": \"white\", \"gridwidth\": 2, \"linecolor\": \"white\", \"showbackground\": true, \"ticks\": \"\", \"zerolinecolor\": \"white\"}, \"zaxis\": {\"backgroundcolor\": \"#E5ECF6\", \"gridcolor\": \"white\", \"gridwidth\": 2, \"linecolor\": \"white\", \"showbackground\": true, \"ticks\": \"\", \"zerolinecolor\": \"white\"}}, \"shapedefaults\": {\"line\": {\"color\": \"#2a3f5f\"}}, \"ternary\": {\"aaxis\": {\"gridcolor\": \"white\", \"linecolor\": \"white\", \"ticks\": \"\"}, \"baxis\": {\"gridcolor\": \"white\", \"linecolor\": \"white\", \"ticks\": \"\"}, \"bgcolor\": \"#E5ECF6\", \"caxis\": {\"gridcolor\": \"white\", \"linecolor\": \"white\", \"ticks\": \"\"}}, \"title\": {\"x\": 0.05}, \"xaxis\": {\"automargin\": true, \"gridcolor\": \"white\", \"linecolor\": \"white\", \"ticks\": \"\", \"title\": {\"standoff\": 15}, \"zerolinecolor\": \"white\", \"zerolinewidth\": 2}, \"yaxis\": {\"automargin\": true, \"gridcolor\": \"white\", \"linecolor\": \"white\", \"ticks\": \"\", \"title\": {\"standoff\": 15}, \"zerolinecolor\": \"white\", \"zerolinewidth\": 2}}}, \"xaxis\": {\"anchor\": \"y\", \"domain\": [0.0, 1.0]}, \"yaxis\": {\"anchor\": \"x\", \"domain\": [0.0, 1.0]}},                        {\"responsive\": true}                    ).then(function(){\n",
       "                            \n",
       "var gd = document.getElementById('1852db71-2bf7-416e-8d1b-e2889e6b31d7');\n",
       "var x = new MutationObserver(function (mutations, observer) {{\n",
       "        var display = window.getComputedStyle(gd).display;\n",
       "        if (!display || display === 'none') {{\n",
       "            console.log([gd, 'removed!']);\n",
       "            Plotly.purge(gd);\n",
       "            observer.disconnect();\n",
       "        }}\n",
       "}});\n",
       "\n",
       "// Listen for the removal of the full notebook cells\n",
       "var notebookContainer = gd.closest('#notebook-container');\n",
       "if (notebookContainer) {{\n",
       "    x.observe(notebookContainer, {childList: true});\n",
       "}}\n",
       "\n",
       "// Listen for the clearing of the current output cell\n",
       "var outputEl = gd.closest('.output');\n",
       "if (outputEl) {{\n",
       "    x.observe(outputEl, {childList: true});\n",
       "}}\n",
       "\n",
       "                        })                };                });            </script>        </div>"
      ]
     },
     "metadata": {},
     "output_type": "display_data"
    }
   ],
   "source": [
    "def get_polar_plot_cluster(cluster):\n",
    "    \"\"\"\n",
    "    cluster: the cluster number\n",
    "    \"\"\"\n",
    "    r = df_by_cluster[cluster].tolist()\n",
    "    theta = df_by_cluster.index.tolist()\n",
    "    g = go.Scatterpolar(r = r + [r[0]], theta = theta + [theta[0]], mode = 'lines',\n",
    "                        name = labels[cluster], line = {'color': colours[cluster]}, legendgroup = cluster,\n",
    "                       )\n",
    "    return g\n",
    "\n",
    "cluster_fig = px.scatter_polar()\n",
    "for i in range(7):\n",
    "    cluster_fig.add_trace((get_polar_plot_cluster(i)))\n",
    "cluster_fig.update_layout(polar_angularaxis_rotation=0, polar_angularaxis_direction='counterclockwise')\n",
    "\n",
    "cluster_fig.show()"
   ]
  },
  {
   "cell_type": "code",
   "execution_count": 68,
   "metadata": {
    "scrolled": false
   },
   "outputs": [
    {
     "name": "stdout",
     "output_type": "stream",
     "text": [
      "Dash app running on http://127.0.0.1:8056/\n"
     ]
    }
   ],
   "source": [
    "dropdown_options = [{\"label\":i, \"value\": i} for i in all_names]\n",
    "\n",
    "app = JupyterDash(__name__)\n",
    "\n",
    "app.layout = html.Div([\n",
    "    html.H1(\"Play Type Distribution of Players\"),\n",
    "    html.P(\"Select players to display from the dropdown. Selecting 'Average' shows the mean play type distribution for all players in that competition.\"),\n",
    "    html.P(\"Click on a player in the legend below to hide/show that series. Zoom in by clicking and dragging, and reset the zoom by double-clicking.\"),\n",
    "    dcc.Dropdown(id=\"selected_players\", options=dropdown_options, value=\"Average\", multi=True, placeholder=\"Search for a player or 'Average'\",),\n",
    "    dcc.Graph(id='play_type_dist_by_player'),\n",
    "    html.P('\\n'.join(col_map), style={'whiteSpace': 'pre-wrap'}),\n",
    "    dash_table.DataTable(id='player_clusters', columns=[{\"name\": i, \"id\": i} for i in clusters_df.columns],\n",
    "                        style_header={'fontWeight': 'bold'}, sort_action='native'),\n",
    "    dcc.Graph(id='play_type_dist_by_cluster', figure=cluster_fig)])\n",
    "    \n",
    "    \n",
    "@app.callback(Output('play_type_dist_by_player', 'figure'), [Input(\"selected_players\", \"value\")])\n",
    "def update_figure(players):\n",
    "    global existing_groups\n",
    "    existing_groups = set()\n",
    "    if isinstance(players, str):\n",
    "        players = [players]\n",
    "    fig = make_subplots(cols=3, specs=[[{\"type\": \"polar\"}, {\"type\": \"polar\"}, {\"type\": \"polar\"}]],\n",
    "                       subplot_titles=(\"<b>FIBA</b>\", \"<b>NBA</b>\", \"<b>INTL</b>\"))\n",
    "    for i in range(3):\n",
    "        for g in get_polar_plots_league(dfs[i], players, showlegend = (i==0)):\n",
    "            fig.add_trace(g, row=1, col=i+1)\n",
    "            fig.layout.annotations[i].update(y=1.05)\n",
    "    \n",
    "    fig.update_polars(radialaxis_range=[0, 0.85])\n",
    "    fig.update_layout(legend = {'orientation': \"h\", 'yanchor': \"bottom\", 'y': -0.15}, margin = {'l': 0, 'r': 0, 't': 50})\n",
    "    \n",
    "    return fig\n",
    "\n",
    "@app.callback(Output('player_clusters', 'data'), [Input(\"selected_players\", \"value\")])\n",
    "def display_clusters(players):\n",
    "    if isinstance(players, str):\n",
    "        players = [players]\n",
    "    ps = [p for p in players if p != 'Average']\n",
    "    d = clusters_df[clusters_df['Player'].isin(ps)].fillna(' N/A')\n",
    "    return d.replace([i for i in range(7)], [l for l in labels]).to_dict('records')\n",
    "\n",
    "app.run_server(port=8056)\n",
    "#app.run_server(mode=\"inline\", debug=True, port=8056)"
   ]
  },
  {
   "cell_type": "code",
   "execution_count": null,
   "metadata": {},
   "outputs": [],
   "source": []
  }
 ],
 "metadata": {
  "kernelspec": {
   "display_name": "Python 3",
   "language": "python",
   "name": "python3"
  },
  "language_info": {
   "codemirror_mode": {
    "name": "ipython",
    "version": 3
   },
   "file_extension": ".py",
   "mimetype": "text/x-python",
   "name": "python",
   "nbconvert_exporter": "python",
   "pygments_lexer": "ipython3",
   "version": "3.7.9"
  }
 },
 "nbformat": 4,
 "nbformat_minor": 4
}
