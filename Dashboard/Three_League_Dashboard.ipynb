{
 "cells": [
  {
   "cell_type": "code",
   "execution_count": 1,
   "metadata": {},
   "outputs": [],
   "source": [
    "from jupyter_dash import JupyterDash\n",
    "import dash_core_components as dcc\n",
    "import dash_html_components as html\n",
    "from dash.dependencies import Input, Output\n",
    "import plotly.express as px\n",
    "import pandas as pd\n",
    "import numpy as np\n",
    "from plotly.subplots import make_subplots\n",
    "import plotly.graph_objects as go"
   ]
  },
  {
   "cell_type": "code",
   "execution_count": 2,
   "metadata": {},
   "outputs": [
    {
     "name": "stdout",
     "output_type": "stream",
     "text": [
      "(1306, 11)\n",
      "(986, 11)\n",
      "(3871, 11)\n"
     ]
    }
   ],
   "source": [
    "df = pd.read_csv(\"../NBA_INTL_FIBA_Clustering.csv\", encoding='latin-1', index_col=0)\n",
    "all_names = ['Average'] + df.index.tolist()\n",
    "\n",
    "# Split up into separate dataframes\n",
    "FIBA_df = df[[c for c in df.columns if c.startswith('FIBA')]].dropna()\n",
    "NBA_df = df[[c for c in df.columns if c.startswith('NBA')]].dropna()\n",
    "INTL_df = df[[c for c in df.columns if c.startswith('INTL')]].dropna()\n",
    "dfs = [FIBA_df, NBA_df, INTL_df]\n",
    "for d in dfs:\n",
    "    print(d.shape)"
   ]
  },
  {
   "cell_type": "code",
   "execution_count": 3,
   "metadata": {},
   "outputs": [
    {
     "name": "stdout",
     "output_type": "stream",
     "text": [
      "(1307, 10)\n",
      "(987, 10)\n",
      "(3872, 10)\n"
     ]
    }
   ],
   "source": [
    "# Normalize dataframes, add row for 'Average', put cluster series in list\n",
    "cluster_series = []\n",
    "for i in range(len(dfs)):\n",
    "    cluster_series.append(dfs[i].iloc[:, -1])\n",
    "    df = dfs[i].iloc[:, :-1]\n",
    "    #df = df.rename(columns={c: c[5:] for c in df.columns})\n",
    "    df.columns = ['BH', 'SU', 'TR', 'IS', 'PU', 'RM', 'CT', 'OR', 'OS', 'HO']\n",
    "    df = df.div(df.sum(axis=1), axis=0) # Normalize by row\n",
    "    mean_vals = df.mean().rename(\"Average\")\n",
    "    dfs[i] = pd.concat([df, pd.DataFrame(mean_vals).transpose()])\n",
    "\n",
    "for d in dfs:\n",
    "    print(d.shape)"
   ]
  },
  {
   "cell_type": "code",
   "execution_count": 4,
   "metadata": {},
   "outputs": [],
   "source": [
    "def get_polar_plots_league(df, players, showlegend=False):\n",
    "    \"\"\"\n",
    "    df: A dataframe with the play type distribution for each player in a particular league\n",
    "    players: A list of players to look up, possibly including 'Average'\n",
    "    If a player is not in the dataframe, does not plot this player\n",
    "    \"\"\"\n",
    "    global colours, cur_colour_idx\n",
    "    \n",
    "    if not players: # No players passed\n",
    "        return px.line_polar(r = [0 for i in range(10)], theta = df.columns)\n",
    "    \n",
    "    valid_players = df.index.intersection(players)\n",
    "    \n",
    "    gs = []\n",
    "    for i in range(len(players)):\n",
    "        p = players[i]\n",
    "        if p in valid_players:\n",
    "            r = df.loc[p].tolist()\n",
    "            theta = df.columns.tolist()\n",
    "            g = go.Scatterpolar(r = r + [r[0]], theta = theta + [theta[0]], mode = 'lines', name = p,\n",
    "                               line = {'color': colours[i%10]}, legendgroup = i, showlegend = (i not in existing_groups))\n",
    "            existing_groups.add(i)\n",
    "            gs.append(g)\n",
    "\n",
    "    return tuple(gs)\n",
    "\n",
    "colours = ['#1f77b4', '#ff7f0e', '#2ca02c', '#d62728', '#9467bd', '#8c564b', '#e377c2', '#7f7f7f', '#bcbd22', '#17becf']\n",
    "existing_groups = set()"
   ]
  },
  {
   "cell_type": "code",
   "execution_count": 5,
   "metadata": {},
   "outputs": [
    {
     "data": {
      "text/html": [
       "\n",
       "        <iframe\n",
       "            width=\"100%\"\n",
       "            height=\"650\"\n",
       "            src=\"http://127.0.0.1:8057/\"\n",
       "            frameborder=\"0\"\n",
       "            allowfullscreen\n",
       "        ></iframe>\n",
       "        "
      ],
      "text/plain": [
       "<IPython.lib.display.IFrame at 0x277b1b877c8>"
      ]
     },
     "metadata": {},
     "output_type": "display_data"
    }
   ],
   "source": [
    "dropdown_options = [{\"label\":i, \"value\": i} for i in all_names]\n",
    "\n",
    "app = JupyterDash(__name__)\n",
    "\n",
    "app.layout = html.Div([\n",
    "    html.H1(\"Play Type Distribution of Players\"),\n",
    "    html.P(\"Select any number of players from the dropdown below:\"),\n",
    "    dcc.Dropdown(id=\"selected_players\", options=dropdown_options, value=\"Average\", multi=True, placeholder=\"Search for a player or 'Average'\",),\n",
    "    dcc.Graph(id='play_type_dist')])\n",
    "\n",
    "@app.callback(\n",
    "    Output('play_type_dist', 'figure'),\n",
    "    [Input(\"selected_players\", \"value\")])\n",
    "def update_figure(players):\n",
    "    global existing_groups\n",
    "    existing_groups = set()\n",
    "    if isinstance(players, str):\n",
    "        players = [players]\n",
    "    fig = make_subplots(cols=3, specs=[[{\"type\": \"polar\"}, {\"type\": \"polar\"}, {\"type\": \"polar\"}]],\n",
    "                       subplot_titles=(\"FIBA\", \"NBA\", \"INTL\"))\n",
    "    for i in range(3):\n",
    "        for g in get_polar_plots_league(dfs[i], players, showlegend = (i==0)):\n",
    "            fig.add_trace((g), row=1, col=i+1)\n",
    "    \n",
    "    fig.update_polars(radialaxis_range=[0, 0.85])\n",
    "    fig.update_layout(legend= {'orientation': \"h\", 'yanchor': \"top\", 'y': 0})\n",
    "    return fig\n",
    "\n",
    "app.run_server(mode=\"inline\", debug=True, port=8057)"
   ]
  }
 ],
 "metadata": {
  "kernelspec": {
   "display_name": "Python 3",
   "language": "python",
   "name": "python3"
  },
  "language_info": {
   "codemirror_mode": {
    "name": "ipython",
    "version": 3
   },
   "file_extension": ".py",
   "mimetype": "text/x-python",
   "name": "python",
   "nbconvert_exporter": "python",
   "pygments_lexer": "ipython3",
   "version": "3.7.9"
  }
 },
 "nbformat": 4,
 "nbformat_minor": 4
}
