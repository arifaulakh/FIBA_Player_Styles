{
 "cells": [
  {
   "cell_type": "code",
   "execution_count": 1,
   "metadata": {},
   "outputs": [],
   "source": [
    "from jupyter_dash import JupyterDash\n",
    "import dash_core_components as dcc\n",
    "import dash_html_components as html\n",
    "from dash.dependencies import Input, Output\n",
    "import plotly.express as px"
   ]
  },
  {
   "cell_type": "code",
   "execution_count": 2,
   "metadata": {},
   "outputs": [
    {
     "data": {
      "text/html": [
       "<div>\n",
       "<style scoped>\n",
       "    .dataframe tbody tr th:only-of-type {\n",
       "        vertical-align: middle;\n",
       "    }\n",
       "\n",
       "    .dataframe tbody tr th {\n",
       "        vertical-align: top;\n",
       "    }\n",
       "\n",
       "    .dataframe thead th {\n",
       "        text-align: right;\n",
       "    }\n",
       "</style>\n",
       "<table border=\"1\" class=\"dataframe\">\n",
       "  <thead>\n",
       "    <tr style=\"text-align: right;\">\n",
       "      <th></th>\n",
       "      <th>P&amp;R Ball Handler</th>\n",
       "      <th>Spot-Up</th>\n",
       "      <th>Transition</th>\n",
       "      <th>ISO</th>\n",
       "      <th>Post-Up</th>\n",
       "      <th>P&amp;R Roll Man</th>\n",
       "      <th>Cut</th>\n",
       "      <th>Offensive Rebound</th>\n",
       "      <th>Off Screen</th>\n",
       "      <th>Hand Off</th>\n",
       "    </tr>\n",
       "  </thead>\n",
       "  <tbody>\n",
       "    <tr>\n",
       "      <th>A.J. Price</th>\n",
       "      <td>176</td>\n",
       "      <td>43</td>\n",
       "      <td>16</td>\n",
       "      <td>18</td>\n",
       "      <td>0</td>\n",
       "      <td>0</td>\n",
       "      <td>1</td>\n",
       "      <td>8</td>\n",
       "      <td>1</td>\n",
       "      <td>5</td>\n",
       "    </tr>\n",
       "    <tr>\n",
       "      <th>AJ Hammons</th>\n",
       "      <td>0</td>\n",
       "      <td>12</td>\n",
       "      <td>3</td>\n",
       "      <td>4</td>\n",
       "      <td>20</td>\n",
       "      <td>29</td>\n",
       "      <td>7</td>\n",
       "      <td>13</td>\n",
       "      <td>1</td>\n",
       "      <td>1</td>\n",
       "    </tr>\n",
       "    <tr>\n",
       "      <th>AJ Price</th>\n",
       "      <td>80</td>\n",
       "      <td>25</td>\n",
       "      <td>10</td>\n",
       "      <td>9</td>\n",
       "      <td>0</td>\n",
       "      <td>0</td>\n",
       "      <td>3</td>\n",
       "      <td>1</td>\n",
       "      <td>0</td>\n",
       "      <td>11</td>\n",
       "    </tr>\n",
       "    <tr>\n",
       "      <th>Aaron Brooks</th>\n",
       "      <td>2599</td>\n",
       "      <td>474</td>\n",
       "      <td>377</td>\n",
       "      <td>498</td>\n",
       "      <td>0</td>\n",
       "      <td>2</td>\n",
       "      <td>23</td>\n",
       "      <td>134</td>\n",
       "      <td>64</td>\n",
       "      <td>172</td>\n",
       "    </tr>\n",
       "    <tr>\n",
       "      <th>Aaron Gordon</th>\n",
       "      <td>880</td>\n",
       "      <td>1151</td>\n",
       "      <td>948</td>\n",
       "      <td>426</td>\n",
       "      <td>638</td>\n",
       "      <td>234</td>\n",
       "      <td>409</td>\n",
       "      <td>640</td>\n",
       "      <td>248</td>\n",
       "      <td>276</td>\n",
       "    </tr>\n",
       "  </tbody>\n",
       "</table>\n",
       "</div>"
      ],
      "text/plain": [
       "              P&R Ball Handler  Spot-Up  Transition  ISO  Post-Up  \\\n",
       "A.J. Price                 176       43          16   18        0   \n",
       "AJ Hammons                   0       12           3    4       20   \n",
       "AJ Price                    80       25          10    9        0   \n",
       "Aaron Brooks              2599      474         377  498        0   \n",
       "Aaron Gordon               880     1151         948  426      638   \n",
       "\n",
       "              P&R Roll Man  Cut  Offensive Rebound  Off Screen  Hand Off  \n",
       "A.J. Price               0    1                  8           1         5  \n",
       "AJ Hammons              29    7                 13           1         1  \n",
       "AJ Price                 0    3                  1           0        11  \n",
       "Aaron Brooks             2   23                134          64       172  \n",
       "Aaron Gordon           234  409                640         248       276  "
      ]
     },
     "execution_count": 2,
     "metadata": {},
     "output_type": "execute_result"
    }
   ],
   "source": [
    "import pandas as pd\n",
    "df = pd.read_csv(\"NBA_Play_Counts.csv\", encoding='latin-1', index_col=0)\n",
    "df = df[df['Total'] > 50].drop(columns=['Total']).sort_index()\n",
    "df"
   ]
  },
  {
   "cell_type": "code",
   "execution_count": 3,
   "metadata": {
    "scrolled": false
   },
   "outputs": [
    {
     "data": {
      "text/html": [
       "\n",
       "        <iframe\n",
       "            width=\"100%\"\n",
       "            height=\"650\"\n",
       "            src=\"http://127.0.0.1:8050/\"\n",
       "            frameborder=\"0\"\n",
       "            allowfullscreen\n",
       "        ></iframe>\n",
       "        "
      ],
      "text/plain": [
       "<IPython.lib.display.IFrame at 0x1bc86378308>"
      ]
     },
     "metadata": {},
     "output_type": "display_data"
    }
   ],
   "source": [
    "dropdown_options = [{\"label\":i, \"value\": i} for i in list(df.index)]\n",
    "\n",
    "app = JupyterDash(__name__)\n",
    "\n",
    "app.layout = html.Div([\n",
    "    html.H1(\"Play Type Distribution of Players\"),\n",
    "    dcc.Dropdown(id=\"select_player\", options=dropdown_options, value=\"Lebron James\"),\n",
    "    dcc.Graph(id='play_type_dist')])\n",
    "\n",
    "@app.callback(\n",
    "    Output('play_type_dist', 'figure'),\n",
    "    [Input(\"select_player\", \"value\")])\n",
    "def update_figure(player):\n",
    "    return px.line_polar(r=df.loc[player].values, theta=df.columns, line_close=True)\n",
    "\n",
    "app.run_server(mode=\"inline\", debug=True)"
   ]
  }
 ],
 "metadata": {
  "kernelspec": {
   "display_name": "Python 3",
   "language": "python",
   "name": "python3"
  },
  "language_info": {
   "codemirror_mode": {
    "name": "ipython",
    "version": 3
   },
   "file_extension": ".py",
   "mimetype": "text/x-python",
   "name": "python",
   "nbconvert_exporter": "python",
   "pygments_lexer": "ipython3",
   "version": "3.7.9"
  }
 },
 "nbformat": 4,
 "nbformat_minor": 4
}
