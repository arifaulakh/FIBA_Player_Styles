{
 "cells": [
  {
   "cell_type": "markdown",
   "metadata": {},
   "source": [
    "# Clustering with Derived Variables\n",
    "\n",
    "First let's load the data."
   ]
  },
  {
   "cell_type": "code",
   "execution_count": 1,
   "metadata": {},
   "outputs": [
    {
     "data": {
      "text/html": [
       "<div>\n",
       "<style scoped>\n",
       "    .dataframe tbody tr th:only-of-type {\n",
       "        vertical-align: middle;\n",
       "    }\n",
       "\n",
       "    .dataframe tbody tr th {\n",
       "        vertical-align: top;\n",
       "    }\n",
       "\n",
       "    .dataframe thead th {\n",
       "        text-align: right;\n",
       "    }\n",
       "</style>\n",
       "<table border=\"1\" class=\"dataframe\">\n",
       "  <thead>\n",
       "    <tr style=\"text-align: right;\">\n",
       "      <th></th>\n",
       "      <th>FULL NAME</th>\n",
       "      <th>TEAM</th>\n",
       "      <th>POS</th>\n",
       "      <th>AGE</th>\n",
       "      <th>GP</th>\n",
       "      <th>MPG</th>\n",
       "      <th>MIN%</th>\n",
       "      <th>USG%</th>\n",
       "      <th>Tor%</th>\n",
       "      <th>FTA</th>\n",
       "      <th>...</th>\n",
       "      <th>3PM</th>\n",
       "      <th>FGM</th>\n",
       "      <th>FGA</th>\n",
       "      <th>PTS</th>\n",
       "      <th>MINS</th>\n",
       "      <th>AST</th>\n",
       "      <th>REB</th>\n",
       "      <th>BLK</th>\n",
       "      <th>TOV</th>\n",
       "      <th>STL</th>\n",
       "    </tr>\n",
       "  </thead>\n",
       "  <tbody>\n",
       "    <tr>\n",
       "      <th>0</th>\n",
       "      <td>Alex Abrines</td>\n",
       "      <td>Okc</td>\n",
       "      <td>G</td>\n",
       "      <td>25.69</td>\n",
       "      <td>31</td>\n",
       "      <td>19.0</td>\n",
       "      <td>39.5</td>\n",
       "      <td>12.2</td>\n",
       "      <td>7.9</td>\n",
       "      <td>13</td>\n",
       "      <td>...</td>\n",
       "      <td>41.021</td>\n",
       "      <td>56.021</td>\n",
       "      <td>157</td>\n",
       "      <td>164.3</td>\n",
       "      <td>589.0</td>\n",
       "      <td>18.6</td>\n",
       "      <td>46.5</td>\n",
       "      <td>5.89</td>\n",
       "      <td>13.95</td>\n",
       "      <td>17.05</td>\n",
       "    </tr>\n",
       "    <tr>\n",
       "      <th>1</th>\n",
       "      <td>Jaylen Adams</td>\n",
       "      <td>Atl</td>\n",
       "      <td>G</td>\n",
       "      <td>22.93</td>\n",
       "      <td>34</td>\n",
       "      <td>12.6</td>\n",
       "      <td>26.2</td>\n",
       "      <td>13.5</td>\n",
       "      <td>19.7</td>\n",
       "      <td>9</td>\n",
       "      <td>...</td>\n",
       "      <td>25.012</td>\n",
       "      <td>38.008</td>\n",
       "      <td>110</td>\n",
       "      <td>108.8</td>\n",
       "      <td>428.4</td>\n",
       "      <td>64.6</td>\n",
       "      <td>61.2</td>\n",
       "      <td>5.10</td>\n",
       "      <td>27.88</td>\n",
       "      <td>12.92</td>\n",
       "    </tr>\n",
       "    <tr>\n",
       "      <th>2</th>\n",
       "      <td>Steven Adams</td>\n",
       "      <td>Okc</td>\n",
       "      <td>C</td>\n",
       "      <td>25.73</td>\n",
       "      <td>80</td>\n",
       "      <td>33.4</td>\n",
       "      <td>69.5</td>\n",
       "      <td>16.4</td>\n",
       "      <td>12.8</td>\n",
       "      <td>292</td>\n",
       "      <td>...</td>\n",
       "      <td>0.000</td>\n",
       "      <td>480.972</td>\n",
       "      <td>809</td>\n",
       "      <td>1112.0</td>\n",
       "      <td>2672.0</td>\n",
       "      <td>128.0</td>\n",
       "      <td>760.0</td>\n",
       "      <td>76.80</td>\n",
       "      <td>138.40</td>\n",
       "      <td>119.20</td>\n",
       "    </tr>\n",
       "    <tr>\n",
       "      <th>3</th>\n",
       "      <td>Bam Adebayo</td>\n",
       "      <td>Mia</td>\n",
       "      <td>C</td>\n",
       "      <td>21.73</td>\n",
       "      <td>82</td>\n",
       "      <td>23.3</td>\n",
       "      <td>48.6</td>\n",
       "      <td>15.8</td>\n",
       "      <td>17.1</td>\n",
       "      <td>226</td>\n",
       "      <td>...</td>\n",
       "      <td>3.000</td>\n",
       "      <td>279.948</td>\n",
       "      <td>486</td>\n",
       "      <td>729.8</td>\n",
       "      <td>1910.6</td>\n",
       "      <td>180.4</td>\n",
       "      <td>598.6</td>\n",
       "      <td>64.78</td>\n",
       "      <td>121.36</td>\n",
       "      <td>72.16</td>\n",
       "    </tr>\n",
       "    <tr>\n",
       "      <th>4</th>\n",
       "      <td>Deng Adel</td>\n",
       "      <td>Cle</td>\n",
       "      <td>F</td>\n",
       "      <td>22.19</td>\n",
       "      <td>19</td>\n",
       "      <td>10.2</td>\n",
       "      <td>21.3</td>\n",
       "      <td>9.9</td>\n",
       "      <td>13.7</td>\n",
       "      <td>4</td>\n",
       "      <td>...</td>\n",
       "      <td>6.003</td>\n",
       "      <td>11.008</td>\n",
       "      <td>36</td>\n",
       "      <td>32.3</td>\n",
       "      <td>193.8</td>\n",
       "      <td>5.7</td>\n",
       "      <td>19.0</td>\n",
       "      <td>3.99</td>\n",
       "      <td>6.08</td>\n",
       "      <td>0.95</td>\n",
       "    </tr>\n",
       "  </tbody>\n",
       "</table>\n",
       "<p>5 rows × 39 columns</p>\n",
       "</div>"
      ],
      "text/plain": [
       "      FULL NAME TEAM POS    AGE  GP   MPG  MIN%  USG%  Tor%  FTA  ...     3PM  \\\n",
       "0  Alex Abrines  Okc   G  25.69  31  19.0  39.5  12.2   7.9   13  ...  41.021   \n",
       "1  Jaylen Adams  Atl   G  22.93  34  12.6  26.2  13.5  19.7    9  ...  25.012   \n",
       "2  Steven Adams  Okc   C  25.73  80  33.4  69.5  16.4  12.8  292  ...   0.000   \n",
       "3   Bam Adebayo  Mia   C  21.73  82  23.3  48.6  15.8  17.1  226  ...   3.000   \n",
       "4     Deng Adel  Cle   F  22.19  19  10.2  21.3   9.9  13.7    4  ...   6.003   \n",
       "\n",
       "       FGM  FGA     PTS    MINS    AST    REB    BLK     TOV     STL  \n",
       "0   56.021  157   164.3   589.0   18.6   46.5   5.89   13.95   17.05  \n",
       "1   38.008  110   108.8   428.4   64.6   61.2   5.10   27.88   12.92  \n",
       "2  480.972  809  1112.0  2672.0  128.0  760.0  76.80  138.40  119.20  \n",
       "3  279.948  486   729.8  1910.6  180.4  598.6  64.78  121.36   72.16  \n",
       "4   11.008   36    32.3   193.8    5.7   19.0   3.99    6.08    0.95  \n",
       "\n",
       "[5 rows x 39 columns]"
      ]
     },
     "execution_count": 1,
     "metadata": {},
     "output_type": "execute_result"
    }
   ],
   "source": [
    "import pandas as pd\n",
    "import matplotlib.pyplot as plt\n",
    "df = pd.read_csv('Filter_Unmerged.csv').drop(columns = ['Unnamed: 0'])\n",
    "df.head()"
   ]
  },
  {
   "cell_type": "markdown",
   "metadata": {},
   "source": [
    "### Feature Engineering\n",
    "\n",
    "Let's create some new columns that will be more usful in calssifying players acccording to their styles."
   ]
  },
  {
   "cell_type": "code",
   "execution_count": 2,
   "metadata": {},
   "outputs": [
    {
     "name": "stdout",
     "output_type": "stream",
     "text": [
      "['FULL NAME', 'TEAM', 'POS', 'AGE', 'GP', 'MPG', 'MIN%', 'USG%', 'Tor%', 'FTA', 'FT%', '2PA', '2P%', '3PA', '3P%', 'eFG%', 'TS%', 'PPG', 'RPG', 'TRB%', 'APG', 'AST%', 'SPG', 'BPG', 'TOPG', 'VI', 'ORTG', 'DRTG', '2PM', '3PM', 'FGM', 'FGA', 'PTS', 'MINS', 'AST', 'REB', 'BLK', 'TOV', 'STL', 'PTSP36', 'ASTP36', 'REBP36', 'BLKP36', 'TOVP36', 'STLP36', 'O/DRTG', '3/2FGA', '%FTA']\n"
     ]
    }
   ],
   "source": [
    "for col in ['PTS', 'AST', 'REB', 'BLK', 'TOV', 'STL']:\n",
    "    df[col + 'P36'] = df[col] * 36 / df['MINS']\n",
    "df['O/DRTG'] = df['ORTG'] / df['DRTG']\n",
    "df['3/2FGA'] = df['3PA'] / df['2PA']\n",
    "df['%FTA'] = df['FTA'] / (df['FGA'] + df['FTA'])\n",
    "print(list(df.columns))"
   ]
  },
  {
   "cell_type": "markdown",
   "metadata": {},
   "source": [
    "### Feature Selection\n",
    "\n",
    "Here, we create a list of the columns we want to use as parameters to the clustering alrogithm, called `cols_to_keep`. We ensure that none of these columns contain missing values."
   ]
  },
  {
   "cell_type": "code",
   "execution_count": 3,
   "metadata": {},
   "outputs": [
    {
     "data": {
      "text/plain": [
       "0"
      ]
     },
     "execution_count": 3,
     "metadata": {},
     "output_type": "execute_result"
    }
   ],
   "source": [
    "cols_to_keep = ['USG%', 'Tor%', 'eFG%', 'TS%', 'TRB%', 'AST%', 'PTSP36', 'ASTP36', 'REBP36', 'BLKP36', 'TOVP36', 'STLP36', 'O/DRTG', '3/2FGA', '%FTA']\n",
    "cluster_df = df[cols_to_keep]\n",
    "df[cols_to_keep].isnull().sum().sum()"
   ]
  },
  {
   "cell_type": "markdown",
   "metadata": {},
   "source": [
    "### Clustering\n",
    "\n",
    "Let us try models with the number of clusters ranging from 5 to 15."
   ]
  },
  {
   "cell_type": "code",
   "execution_count": 4,
   "metadata": {},
   "outputs": [
    {
     "data": {
      "text/plain": [
       "[26327.90384997781,\n",
       " 23297.102645217725,\n",
       " 21404.192682717563,\n",
       " 19790.608499696085,\n",
       " 18476.538694204064,\n",
       " 17482.05659306451,\n",
       " 16576.83734228199,\n",
       " 15674.366084773348,\n",
       " 15023.966074424798,\n",
       " 14338.444968908321]"
      ]
     },
     "execution_count": 4,
     "metadata": {},
     "output_type": "execute_result"
    }
   ],
   "source": [
    "from sklearn.cluster import KMeans\n",
    "inertias = []\n",
    "num_data = cluster_df._get_numeric_data().dropna(axis = 1)\n",
    "for i in range(5, 15):\n",
    "    test_model = KMeans(n_clusters = i, random_state = 1) #test using just 5 clusters\n",
    "    test_model.fit(num_data)\n",
    "    inertias.append(test_model.inertia_)\n",
    "inertias"
   ]
  },
  {
   "cell_type": "markdown",
   "metadata": {},
   "source": [
    "We create a plot of the \"intertias\" per number of clusteras and use the elbow method to determine the best number of clusters."
   ]
  },
  {
   "cell_type": "code",
   "execution_count": 5,
   "metadata": {
    "scrolled": true
   },
   "outputs": [
    {
     "data": {
      "image/png": "[encoded data removed]",
      "text/plain": [
       "<Figure size 1152x576 with 1 Axes>"
      ]
     },
     "metadata": {
      "needs_background": "light"
     },
     "output_type": "display_data"
    }
   ],
   "source": [
    "plt.figure(figsize=(16,8))\n",
    "plt.plot(range(5,15), inertias, 'bx-')\n",
    "plt.xlabel('k')\n",
    "plt.ylabel('Distortion')\n",
    "plt.title('The Elbow Method showing the optimal k')\n",
    "plt.show()"
   ]
  },
  {
   "cell_type": "markdown",
   "metadata": {},
   "source": [
    "### Analysis\n",
    "\n",
    "We can now look at the relative size of each cluster."
   ]
  },
  {
   "cell_type": "code",
   "execution_count": 6,
   "metadata": {},
   "outputs": [
    {
     "data": {
      "text/plain": [
       "7    107\n",
       "3     88\n",
       "4     56\n",
       "0     56\n",
       "1     36\n",
       "8     31\n",
       "2     29\n",
       "5     22\n",
       "6     15\n",
       "Name: Cluster, dtype: int64"
      ]
     },
     "execution_count": 6,
     "metadata": {},
     "output_type": "execute_result"
    }
   ],
   "source": [
    "test_model = KMeans(n_clusters = 9, random_state = 1)\n",
    "test_model.fit(num_data)\n",
    "df['Cluster'] = test_model.labels_\n",
    "df['Cluster'].value_counts()"
   ]
  },
  {
   "cell_type": "markdown",
   "metadata": {},
   "source": [
    "We can also look at the distribution by position within each cluster."
   ]
  },
  {
   "cell_type": "code",
   "execution_count": 7,
   "metadata": {},
   "outputs": [
    {
     "data": {
      "image/png": "[encoded data removed]",
      "text/plain": [
       "<Figure size 720x576 with 9 Axes>"
      ]
     },
     "metadata": {},
     "output_type": "display_data"
    }
   ],
   "source": [
    "plt.figure(figsize=(10,8))\n",
    "for i in range(9):\n",
    "    plt.subplot(3, 3, i+1)\n",
    "    plt.title(\"Cluster \" + str(i) + \" (\" + str(len(df[df['Cluster'] == i])) + \")\")\n",
    "    plt.tight_layout()\n",
    "    df[df['Cluster'] == i]['POS'].value_counts().plot.pie()  \n",
    "plt.show()"
   ]
  },
  {
   "cell_type": "markdown",
   "metadata": {},
   "source": [
    "Finally, we can look at the distribution of specific statistics within each cluster and contrast."
   ]
  },
  {
   "cell_type": "code",
   "execution_count": null,
   "metadata": {},
   "outputs": [],
   "source": [
    "stat = 'PTS'\n",
    "plt.figure(figsize=(10,8))\n",
    "for i in range(9):\n",
    "    plt.subplot(3, 3, i+1)\n",
    "    plt.title(stat + \"- Cluster \" + str(i) + \" (\" + str(len(df[df['Cluster'] == i])) + \")\")\n",
    "    plt.xlim(0, 3000)\n",
    "    plt.tight_layout()\n",
    "    df[df['Cluster'] == i][stat].hist()\n",
    "plt.show()"
   ]
  }
 ],
 "metadata": {
  "kernelspec": {
   "display_name": "Python 3",
   "language": "python",
   "name": "python3"
  },
  "language_info": {
   "codemirror_mode": {
    "name": "ipython",
    "version": 3
   },
   "file_extension": ".py",
   "mimetype": "text/x-python",
   "name": "python",
   "nbconvert_exporter": "python",
   "pygments_lexer": "ipython3",
   "version": "3.7.6"
  }
 },
 "nbformat": 4,
 "nbformat_minor": 4
}
