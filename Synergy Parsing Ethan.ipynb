{
 "cells": [
  {
   "cell_type": "markdown",
   "metadata": {},
   "source": [
    "Load the data."
   ]
  },
  {
   "cell_type": "code",
   "execution_count": 1,
   "metadata": {},
   "outputs": [
    {
     "data": {
      "text/html": [
       "<div>\n",
       "<style scoped>\n",
       "    .dataframe tbody tr th:only-of-type {\n",
       "        vertical-align: middle;\n",
       "    }\n",
       "\n",
       "    .dataframe tbody tr th {\n",
       "        vertical-align: top;\n",
       "    }\n",
       "\n",
       "    .dataframe thead th {\n",
       "        text-align: right;\n",
       "    }\n",
       "</style>\n",
       "<table border=\"1\" class=\"dataframe\">\n",
       "  <thead>\n",
       "    <tr style=\"text-align: right;\">\n",
       "      <th></th>\n",
       "      <th>Region</th>\n",
       "      <th>Date</th>\n",
       "      <th>Away Team</th>\n",
       "      <th>Home Team</th>\n",
       "      <th>Result</th>\n",
       "      <th>Team</th>\n",
       "      <th>Period</th>\n",
       "      <th>Clock</th>\n",
       "      <th>Player</th>\n",
       "      <th>Play Details</th>\n",
       "      <th>Away Score</th>\n",
       "      <th>Home Score</th>\n",
       "    </tr>\n",
       "    <tr>\n",
       "      <th>ID</th>\n",
       "      <th></th>\n",
       "      <th></th>\n",
       "      <th></th>\n",
       "      <th></th>\n",
       "      <th></th>\n",
       "      <th></th>\n",
       "      <th></th>\n",
       "      <th></th>\n",
       "      <th></th>\n",
       "      <th></th>\n",
       "      <th></th>\n",
       "      <th></th>\n",
       "    </tr>\n",
       "  </thead>\n",
       "  <tbody>\n",
       "    <tr>\n",
       "      <th>1</th>\n",
       "      <td>2019 World Cup</td>\n",
       "      <td>9/15/2019</td>\n",
       "      <td>Spain</td>\n",
       "      <td>Argentina</td>\n",
       "      <td>Miss 2 Pts</td>\n",
       "      <td>Spain</td>\n",
       "      <td>1</td>\n",
       "      <td>9:39</td>\n",
       "      <td>Ricky Rubio</td>\n",
       "      <td>9 Ricky Rubio &gt; Hand Off &gt; From Stationary &gt; R...</td>\n",
       "      <td>0</td>\n",
       "      <td>0</td>\n",
       "    </tr>\n",
       "    <tr>\n",
       "      <th>2</th>\n",
       "      <td>2019 World Cup</td>\n",
       "      <td>9/15/2019</td>\n",
       "      <td>Spain</td>\n",
       "      <td>Argentina</td>\n",
       "      <td>NaN</td>\n",
       "      <td>NaN</td>\n",
       "      <td>1</td>\n",
       "      <td>9:39</td>\n",
       "      <td>NaN</td>\n",
       "      <td>Shot &gt; Ricky Rubio &gt; Any Type &gt; 2 Point Attemp...</td>\n",
       "      <td>0</td>\n",
       "      <td>0</td>\n",
       "    </tr>\n",
       "    <tr>\n",
       "      <th>3</th>\n",
       "      <td>2019 World Cup</td>\n",
       "      <td>9/15/2019</td>\n",
       "      <td>Spain</td>\n",
       "      <td>Argentina</td>\n",
       "      <td>NaN</td>\n",
       "      <td>NaN</td>\n",
       "      <td>1</td>\n",
       "      <td>9:39</td>\n",
       "      <td>NaN</td>\n",
       "      <td>Misc Stat &gt; Defensive Rebound &gt; Marcos Delia</td>\n",
       "      <td>0</td>\n",
       "      <td>0</td>\n",
       "    </tr>\n",
       "    <tr>\n",
       "      <th>4</th>\n",
       "      <td>2019 World Cup</td>\n",
       "      <td>9/15/2019</td>\n",
       "      <td>Spain</td>\n",
       "      <td>Argentina</td>\n",
       "      <td>Miss 3 Pts</td>\n",
       "      <td>Argentina</td>\n",
       "      <td>1</td>\n",
       "      <td>9:30</td>\n",
       "      <td>Luis Scola</td>\n",
       "      <td>7 Facundo Campazzo &gt; P&amp;R Ball Handler &gt; High P...</td>\n",
       "      <td>0</td>\n",
       "      <td>0</td>\n",
       "    </tr>\n",
       "    <tr>\n",
       "      <th>5</th>\n",
       "      <td>2019 World Cup</td>\n",
       "      <td>9/15/2019</td>\n",
       "      <td>Spain</td>\n",
       "      <td>Argentina</td>\n",
       "      <td>NaN</td>\n",
       "      <td>NaN</td>\n",
       "      <td>1</td>\n",
       "      <td>9:30</td>\n",
       "      <td>NaN</td>\n",
       "      <td>Shot &gt; Luis Scola &gt; Any Type &gt; 3 Point Attempt...</td>\n",
       "      <td>0</td>\n",
       "      <td>0</td>\n",
       "    </tr>\n",
       "  </tbody>\n",
       "</table>\n",
       "</div>"
      ],
      "text/plain": [
       "            Region       Date Away Team  Home Team      Result       Team  \\\n",
       "ID                                                                          \n",
       "1   2019 World Cup  9/15/2019     Spain  Argentina  Miss 2 Pts      Spain   \n",
       "2   2019 World Cup  9/15/2019     Spain  Argentina         NaN        NaN   \n",
       "3   2019 World Cup  9/15/2019     Spain  Argentina         NaN        NaN   \n",
       "4   2019 World Cup  9/15/2019     Spain  Argentina  Miss 3 Pts  Argentina   \n",
       "5   2019 World Cup  9/15/2019     Spain  Argentina         NaN        NaN   \n",
       "\n",
       "    Period Clock       Player  \\\n",
       "ID                              \n",
       "1        1  9:39  Ricky Rubio   \n",
       "2        1  9:39          NaN   \n",
       "3        1  9:39          NaN   \n",
       "4        1  9:30   Luis Scola   \n",
       "5        1  9:30          NaN   \n",
       "\n",
       "                                         Play Details  Away Score  Home Score  \n",
       "ID                                                                             \n",
       "1   9 Ricky Rubio > Hand Off > From Stationary > R...           0           0  \n",
       "2   Shot > Ricky Rubio > Any Type > 2 Point Attemp...           0           0  \n",
       "3        Misc Stat > Defensive Rebound > Marcos Delia           0           0  \n",
       "4   7 Facundo Campazzo > P&R Ball Handler > High P...           0           0  \n",
       "5   Shot > Luis Scola > Any Type > 3 Point Attempt...           0           0  "
      ]
     },
     "execution_count": 1,
     "metadata": {},
     "output_type": "execute_result"
    }
   ],
   "source": [
    "# Code adapted from Harish Satgunarajah\n",
    "import pandas as pd\n",
    "\n",
    "df = pd.read_csv(\"../FIBAData.csv\", index_col = 0, encoding='latin-1')\n",
    "df.head()"
   ]
  },
  {
   "cell_type": "markdown",
   "metadata": {},
   "source": [
    "Let's add a column with an ID for each unique game."
   ]
  },
  {
   "cell_type": "code",
   "execution_count": 2,
   "metadata": {},
   "outputs": [],
   "source": [
    "df['GameID'] = df['Region'] + str(df['Date']) + df['Home Team'] + df['Away Team']\n",
    "games = df['GameID'].unique().tolist()\n",
    "df['GameID'] = df['GameID'].apply(lambda x: games.index(x))"
   ]
  },
  {
   "cell_type": "markdown",
   "metadata": {},
   "source": [
    "We can see which teams we have the most/least games for."
   ]
  },
  {
   "cell_type": "code",
   "execution_count": 3,
   "metadata": {},
   "outputs": [
    {
     "data": {
      "text/plain": [
       "Serbia          65\n",
       "France          64\n",
       "Spain           63\n",
       "Lithuania       58\n",
       "Argentina       53\n",
       "                ..\n",
       "Saudi Arabia     3\n",
       "South Africa     3\n",
       "Kuwait           2\n",
       "Singapore        2\n",
       "Bahrain          1\n",
       "Name: GameID, Length: 93, dtype: int32"
      ]
     },
     "execution_count": 3,
     "metadata": {},
     "output_type": "execute_result"
    }
   ],
   "source": [
    "HTs = df.groupby(['Home Team'])['GameID'].nunique()\n",
    "ATs = df.groupby(['Away Team'])['GameID'].nunique()\n",
    "HTs.add(ATs, fill_value=0).astype(int).sort_values(ascending=False)"
   ]
  },
  {
   "cell_type": "code",
   "execution_count": 4,
   "metadata": {},
   "outputs": [
    {
     "data": {
      "text/plain": [
       "93"
      ]
     },
     "execution_count": 4,
     "metadata": {},
     "output_type": "execute_result"
    }
   ],
   "source": [
    "teams = set(df['Home Team'].unique()).union(set(df['Away Team'].unique()))\n",
    "len(teams)"
   ]
  },
  {
   "cell_type": "markdown",
   "metadata": {},
   "source": [
    "Let's see how many players we have data on"
   ]
  },
  {
   "cell_type": "code",
   "execution_count": 5,
   "metadata": {},
   "outputs": [
    {
     "data": {
      "text/plain": [
       "Luis Scola            1286\n",
       "Bojan Bogdanovic      1151\n",
       "Bogdan Bogdanovic     1023\n",
       "Facundo Campazzo       905\n",
       "Andray Blatche         830\n",
       "                      ... \n",
       "Mario Lopez              1\n",
       "Hjalmar Stefansson       1\n",
       "Adam Somogyi             1\n",
       "Max Febou Yadapa         1\n",
       "Guilherme Bento          1\n",
       "Name: Player, Length: 2873, dtype: int64"
      ]
     },
     "execution_count": 5,
     "metadata": {},
     "output_type": "execute_result"
    }
   ],
   "source": [
    "df['Player'].value_counts()"
   ]
  },
  {
   "cell_type": "markdown",
   "metadata": {},
   "source": [
    "We seem to have 2873, but I wonder if there are any duplicates in here with slight differences in spelling (e.g. capitalization, accents, middle names). However, cleaning this seems difficult..."
   ]
  },
  {
   "cell_type": "code",
   "execution_count": 6,
   "metadata": {
    "scrolled": true
   },
   "outputs": [
    {
     "name": "stdout",
     "output_type": "stream",
     "text": [
      "2874 2870\n",
      "2860 2856\n",
      "{nan, 'Tomás Satoransky', 'Jakub Kudlácek', 'Sergio Rodríguez Gómez', 'Leonardo Gutiérrez', 'Martin Kríz', 'Ondrej Balvín', 'Andrés Nocioni', 'Sergio Rodríguez', 'Tomás Vyoral', 'José Calderon', 'Martin KrÃ\\xadz', 'José-Manuel Calderon', 'Fidel Mendoça', 'Ondrej BalvÃ\\xadn', 'João Paulo Batista', 'Hidayet Türkoglu'}\n",
      "{'Martin KrAz', 'Leonardo Gutierrez', 'Andres Nocioni', 'Jakub Kudlacek', 'Martin Kriz', 'Jose-Manuel Calderon', 'nan', 'Hidayet Turkoglu', 'Fidel Mendoca', 'Jose Calderon', 'Sergio Rodriguez Gomez', 'Ondrej BalvAn', 'Sergio Rodriguez'}\n"
     ]
    }
   ],
   "source": [
    "import unidecode\n",
    "player_names = set(df['Player'].unique())\n",
    "decoded_player_names = set(df['Player'].apply(lambda x: unidecode.unidecode(str(x))).unique())\n",
    "capital_player_names = set(df['Player'].str.upper().unique())\n",
    "capital_decoded_player_names = set(df['Player'].apply(lambda x: unidecode.unidecode(str(x).upper())).unique())\n",
    "print(len(player_names), len(decoded_player_names))\n",
    "print(len(capital_player_names), len(capital_decoded_player_names))\n",
    "print(player_names - decoded_player_names)\n",
    "print(decoded_player_names - player_names)"
   ]
  },
  {
   "cell_type": "code",
   "execution_count": 7,
   "metadata": {},
   "outputs": [
    {
     "data": {
      "text/plain": [
       "['José Calderon', 'José-Manuel Calderon']"
      ]
     },
     "execution_count": 7,
     "metadata": {},
     "output_type": "execute_result"
    }
   ],
   "source": [
    "import difflib #https://docs.python.org/3/library/difflib.html\n",
    "players = df[df['Team'] == 'Spain']['Player'].unique().tolist()\n",
    "difflib.get_close_matches('Jose Calderon', players)"
   ]
  },
  {
   "cell_type": "markdown",
   "metadata": {},
   "source": [
    "Let's see whether we need to clean the period data."
   ]
  },
  {
   "cell_type": "code",
   "execution_count": 8,
   "metadata": {},
   "outputs": [
    {
     "name": "stdout",
     "output_type": "stream",
     "text": [
      "Periods in data  : [1, 2, 3, 4, 5, 6, 7]\n",
      "Number of Games  : 1164\n",
      "Missing period 1 : 10\n",
      "Missing period 2 : 33\n",
      "Missing period 3 : 20\n",
      "Missing period 4 : 25\n",
      "Has 6 but not 5  : 12\n",
      "Has 7 but not 5  : 0\n",
      "Has 7 but not 6  : 6\n"
     ]
    }
   ],
   "source": [
    "period_list = df.groupby('GameID')['Period'].unique()\n",
    "print(\"Periods in data  :\", df['Period'].unique().tolist())\n",
    "print(\"Number of Games  :\", len(period_list))\n",
    "for i in range(1, 5):\n",
    "    print(\"Missing period\", i, \":\", period_list.apply(lambda x: i not in x).sum())\n",
    "for (i, j) in ((5, 6), (5, 7), (6, 7)):\n",
    "    print(\"Has\", j, \"but not\", i, \" :\", period_list.apply(lambda x: j in x and i not in x).sum())"
   ]
  },
  {
   "cell_type": "markdown",
   "metadata": {},
   "source": [
    "We may wish to disregard the games with these exceptions as being unreliable, or we can ignore these errors. Let us also see how many plays we have per period."
   ]
  },
  {
   "cell_type": "code",
   "execution_count": 9,
   "metadata": {},
   "outputs": [
    {
     "data": {
      "text/plain": [
       "count    4684.000000\n",
       "mean      168.519641\n",
       "std        37.370304\n",
       "min         6.000000\n",
       "25%       149.000000\n",
       "50%       166.000000\n",
       "75%       183.000000\n",
       "max       702.000000\n",
       "dtype: float64"
      ]
     },
     "execution_count": 9,
     "metadata": {},
     "output_type": "execute_result"
    }
   ],
   "source": [
    "df.groupby(['GameID', 'Period']).size().describe()"
   ]
  },
  {
   "cell_type": "code",
   "execution_count": null,
   "metadata": {},
   "outputs": [],
   "source": []
  },
  {
   "cell_type": "markdown",
   "metadata": {},
   "source": [
    "As we see, some periods include only 6 rows of information, while some include up to 702. This is further evidence that the period labels may not be reliable in some cases. In the future, we could analyze the clock column to ensure validity of the period labels."
   ]
  },
  {
   "cell_type": "markdown",
   "metadata": {},
   "source": [
    "Below are some ideas for parsing the plays, if we were to do this from scratch."
   ]
  },
  {
   "cell_type": "code",
   "execution_count": 10,
   "metadata": {},
   "outputs": [
    {
     "data": {
      "text/plain": [
       "{'Hand Off': [3, 2],\n",
       " 'P&R Ball Handler': [11, 4.199999999999999],\n",
       " 'Non Possession': [8, 0],\n",
       " 'Offensive Rebound': [2, 2],\n",
       " 'Spot-Up': [3, 5],\n",
       " 'Cut': [1, 1],\n",
       " 'No Play Type': [3, 0.1],\n",
       " 'Transition': [1, 0]}"
      ]
     },
     "execution_count": 10,
     "metadata": {},
     "output_type": "execute_result"
    }
   ],
   "source": [
    "success_type = {\"Make 2 Pts\" : 2, \"Make 3 Pts\" : 3, \"1 Pts\" : 1, \"Made\" : 1, \"Foul\": 0.1}\n",
    "\n",
    "def play_distribution(player, gameID):\n",
    "    \"\"\"\n",
    "    Return player's play type distribution for given game.\n",
    "    Synergy actions are PnR Handler, Spot Up, Transition, Isolation, Post Up, PnR Man, Cut, ORB, Off Scree, Hand Off\n",
    "    player: String, player's full name\n",
    "    gameID: int, game ID from df\n",
    "    return: dict, {play_type: [attempts, pts]}\n",
    "    \"\"\"\n",
    "    # TODO Handle non-plays? (free throws, turnovers, fouls, etc.)\n",
    "    # What result for foul? Count number of shots received? Right now adding 0.1...\n",
    "    # If assisted by different player, count under resulting play type\n",
    "    play_distribution = {}\n",
    "    temp = df[df['GameID'] == gameID]\n",
    "    temp = temp[temp['Play Details'].str.contains(player)]['Play Details']\n",
    "    for play in temp.tolist():\n",
    "        play = play.split(' > ')\n",
    "        if player in play[0] or 'Ball Delivered' in play:\n",
    "            play_type = play[1 if player in play[0] else play.index('Ball Delivered') + 2]\n",
    "            play_result = play[-1]\n",
    "            if play_type in play_distribution:\n",
    "                play_distribution[play_type][0] += 1\n",
    "                play_distribution[play_type][1] += success_type[play_result] if play_result in success_type else 0\n",
    "            else:\n",
    "                play_distribution[play_type] = [1, success_type[play_result] if play_result in success_type else 0]\n",
    "    return play_distribution\n",
    "\n",
    "play_distribution(\"Ricky Rubio\", 0)"
   ]
  },
  {
   "cell_type": "code",
   "execution_count": 20,
   "metadata": {},
   "outputs": [
    {
     "data": {
      "text/plain": [
       "{'Hand Off': 3,\n",
       " 'P&R Ball Handler': 11,\n",
       " 'Offensive Rebound': 2,\n",
       " 'Spot-Up': 3,\n",
       " 'Cut': 1,\n",
       " 'Transition': 1}"
      ]
     },
     "execution_count": 20,
     "metadata": {},
     "output_type": "execute_result"
    }
   ],
   "source": [
    "def play_counts(player, gameID):\n",
    "    \"\"\"\n",
    "    Return player's play type counts for game with given gameID.\n",
    "    Synergy actions: PnR Handler, Spot Up, Transition, Isolation, Post Up, PnR Man, Cut, ORB, Off Screen, Hand Off\n",
    "    player: String, player's full name as appears in data\n",
    "    gameID: int, game ID from df\n",
    "    return: dict, {play_type: count}\n",
    "    \"\"\"\n",
    "    play_distribution = {}\n",
    "    temp = df[df['GameID'] == gameID]\n",
    "    temp = temp[temp['Play Details'].str.contains(player)]['Play Details']\n",
    "    for play in temp.tolist():\n",
    "        play = play.split(' > ')\n",
    "        if player in play[0] or 'Ball Delivered' in play: # If assisted by different player, count under resulting play type\n",
    "            play_type = play[1 if player in play[0] else play.index('Ball Delivered') + 2]\n",
    "            if play_type in play_distribution:\n",
    "                play_distribution[play_type] += 1\n",
    "            elif play_type != 'Non Possession' and play_type != 'No Play Type':\n",
    "                play_distribution[play_type] = 1\n",
    "    return play_distribution\n",
    "\n",
    "play_counts(\"Ricky Rubio\", 0)"
   ]
  },
  {
   "cell_type": "code",
   "execution_count": 12,
   "metadata": {},
   "outputs": [
    {
     "data": {
      "text/plain": [
       "{'8 Sec Violation',\n",
       " 'Free Throw',\n",
       " 'Kicked Ball',\n",
       " 'Non Shooting Foul',\n",
       " 'Out of Bound 5 Sec Violation',\n",
       " 'Shot Clock Violation'}"
      ]
     },
     "execution_count": 12,
     "metadata": {},
     "output_type": "execute_result"
    }
   ],
   "source": [
    "unique = set()\n",
    "temp = df['Play Details']\n",
    "for play in temp.tolist():\n",
    "    play = play.split(' > ')\n",
    "    if len(play) >= 2 and play[1] == 'Non Possession':\n",
    "        unique.add(play[2])\n",
    "unique"
   ]
  },
  {
   "cell_type": "code",
   "execution_count": 13,
   "metadata": {},
   "outputs": [
    {
     "data": {
      "text/plain": [
       "{'Assist',\n",
       " 'Block',\n",
       " 'Defensive Rebound',\n",
       " 'Offensive Rebound',\n",
       " 'Steal',\n",
       " 'Team Defensive Rebound',\n",
       " 'Team Offensive Rebound'}"
      ]
     },
     "execution_count": 13,
     "metadata": {},
     "output_type": "execute_result"
    }
   ],
   "source": [
    "unique = set()\n",
    "temp = df['Play Details']\n",
    "for play in temp.tolist():\n",
    "    play = play.split(' > ')\n",
    "    if play[0] == 'Misc Stat':\n",
    "        unique.add(play[1])\n",
    "unique"
   ]
  },
  {
   "cell_type": "code",
   "execution_count": 14,
   "metadata": {},
   "outputs": [
    {
     "data": {
      "text/plain": [
       "{'Made', 'Make 2 Pts', 'Make 3 Pts', 'Miss 2 Pts', 'Miss 3 Pts', 'Missed'}"
      ]
     },
     "execution_count": 14,
     "metadata": {},
     "output_type": "execute_result"
    }
   ],
   "source": [
    "unique = set()\n",
    "temp = df['Play Details']\n",
    "for play in temp.tolist():\n",
    "    play = play.split(' > ')\n",
    "    if play[0] == 'Shot':\n",
    "        unique.add(play[-1])\n",
    "unique"
   ]
  },
  {
   "cell_type": "code",
   "execution_count": 15,
   "metadata": {},
   "outputs": [
    {
     "data": {
      "text/plain": [
       "{'Shot', 'Turnover'}"
      ]
     },
     "execution_count": 15,
     "metadata": {},
     "output_type": "execute_result"
    }
   ],
   "source": [
    "unique = set()\n",
    "temp = df['Play Details']\n",
    "for play in temp.tolist():\n",
    "    play = play.split(' > ')\n",
    "    if play[0].isalpha():\n",
    "        unique.add(play[0])\n",
    "unique"
   ]
  },
  {
   "cell_type": "code",
   "execution_count": 16,
   "metadata": {},
   "outputs": [
    {
     "data": {
      "text/plain": [
       "{'Misc Stat',\n",
       " 'Personal Foul',\n",
       " 'Player Movement',\n",
       " 'Shot',\n",
       " 'Technical Foul',\n",
       " 'Time Event',\n",
       " 'Turnover'}"
      ]
     },
     "execution_count": 16,
     "metadata": {},
     "output_type": "execute_result"
    }
   ],
   "source": [
    "unique = set()\n",
    "temp = df['Play Details']\n",
    "for play in temp.tolist():\n",
    "    play = play.split(' > ')\n",
    "    if not any(map(str.isdigit, play[0])):\n",
    "        unique.add(play[0])\n",
    "unique"
   ]
  },
  {
   "cell_type": "code",
   "execution_count": 17,
   "metadata": {},
   "outputs": [],
   "source": [
    "def stat_distribution(player, gameID):\n",
    "    player = \"Ricky Rubio\"\n",
    "    grouped = temp[temp['Play Details'].str.contains(player)].groupby(['Period', 'Clock'])\n",
    "    series = grouped['Play Details'].first()\n",
    "    series"
   ]
  },
  {
   "cell_type": "code",
   "execution_count": 18,
   "metadata": {},
   "outputs": [
    {
     "name": "stdout",
     "output_type": "stream",
     "text": [
      "Starting stat generation\n",
      "2019 World Cup Spain\n"
     ]
    },
    {
     "ename": "NameError",
     "evalue": "name 'data' is not defined",
     "output_type": "error",
     "traceback": [
      "\u001b[1;31m---------------------------------------------------------------------------\u001b[0m",
      "\u001b[1;31mNameError\u001b[0m                                 Traceback (most recent call last)",
      "\u001b[1;32m<ipython-input-18-e3ce9c5b6d3a>\u001b[0m in \u001b[0;36m<module>\u001b[1;34m\u001b[0m\n\u001b[0;32m    138\u001b[0m     \u001b[1;32mfor\u001b[0m \u001b[0mteam\u001b[0m \u001b[1;32min\u001b[0m \u001b[0mteams\u001b[0m\u001b[1;33m:\u001b[0m\u001b[1;33m\u001b[0m\u001b[1;33m\u001b[0m\u001b[0m\n\u001b[0;32m    139\u001b[0m         \u001b[0mprint\u001b[0m\u001b[1;33m(\u001b[0m\u001b[0mregion\u001b[0m\u001b[1;33m,\u001b[0m \u001b[0mteam\u001b[0m\u001b[1;33m)\u001b[0m\u001b[1;33m\u001b[0m\u001b[1;33m\u001b[0m\u001b[0m\n\u001b[1;32m--> 140\u001b[1;33m         \u001b[0mtemp\u001b[0m \u001b[1;33m=\u001b[0m \u001b[0mgetStats\u001b[0m\u001b[1;33m(\u001b[0m\u001b[0mcountry\u001b[0m\u001b[1;33m=\u001b[0m\u001b[0mteam\u001b[0m\u001b[1;33m,\u001b[0m \u001b[0mtournament\u001b[0m\u001b[1;33m=\u001b[0m\u001b[0mregion\u001b[0m\u001b[1;33m)\u001b[0m\u001b[1;33m\u001b[0m\u001b[1;33m\u001b[0m\u001b[0m\n\u001b[0m\u001b[0;32m    141\u001b[0m         \u001b[0mtemp\u001b[0m \u001b[1;33m=\u001b[0m \u001b[0mtemp\u001b[0m\u001b[1;33m.\u001b[0m\u001b[0mloc\u001b[0m\u001b[1;33m[\u001b[0m\u001b[0mtemp\u001b[0m\u001b[1;33m[\u001b[0m\u001b[1;34m\"# Games\"\u001b[0m\u001b[1;33m]\u001b[0m \u001b[1;33m!=\u001b[0m \u001b[1;36m0\u001b[0m\u001b[1;33m]\u001b[0m\u001b[1;33m\u001b[0m\u001b[1;33m\u001b[0m\u001b[0m\n\u001b[0;32m    142\u001b[0m         \u001b[0mnewData\u001b[0m \u001b[1;33m=\u001b[0m \u001b[0mnewData\u001b[0m\u001b[1;33m.\u001b[0m\u001b[0mappend\u001b[0m\u001b[1;33m(\u001b[0m\u001b[0mtemp\u001b[0m\u001b[1;33m,\u001b[0m \u001b[0msort\u001b[0m\u001b[1;33m=\u001b[0m\u001b[1;32mTrue\u001b[0m\u001b[1;33m)\u001b[0m\u001b[1;33m\u001b[0m\u001b[1;33m\u001b[0m\u001b[0m\n",
      "\u001b[1;32m<ipython-input-18-e3ce9c5b6d3a>\u001b[0m in \u001b[0;36mgetStats\u001b[1;34m(country, tournament, ID)\u001b[0m\n\u001b[0;32m     57\u001b[0m         \u001b[0md\u001b[0m\u001b[1;33m[\u001b[0m\u001b[1;34m\"Tournament\"\u001b[0m\u001b[1;33m]\u001b[0m \u001b[1;33m=\u001b[0m \u001b[1;33m[\u001b[0m\u001b[0mtournament\u001b[0m\u001b[1;33m]\u001b[0m\u001b[1;33m\u001b[0m\u001b[1;33m\u001b[0m\u001b[0m\n\u001b[0;32m     58\u001b[0m         \u001b[1;31m#print(country, tournament)\u001b[0m\u001b[1;33m\u001b[0m\u001b[1;33m\u001b[0m\u001b[1;33m\u001b[0m\u001b[0m\n\u001b[1;32m---> 59\u001b[1;33m         \u001b[0mdataset\u001b[0m \u001b[1;33m=\u001b[0m \u001b[0mdata\u001b[0m\u001b[1;33m.\u001b[0m\u001b[0mloc\u001b[0m\u001b[1;33m[\u001b[0m\u001b[1;33m(\u001b[0m\u001b[0mdata\u001b[0m\u001b[1;33m.\u001b[0m\u001b[0mTeam\u001b[0m \u001b[1;33m==\u001b[0m \u001b[0mcountry\u001b[0m\u001b[1;33m)\u001b[0m \u001b[1;33m&\u001b[0m \u001b[1;33m(\u001b[0m\u001b[0mdata\u001b[0m\u001b[1;33m.\u001b[0m\u001b[0mRegion\u001b[0m \u001b[1;33m==\u001b[0m \u001b[0mtournament\u001b[0m\u001b[1;33m)\u001b[0m\u001b[1;33m]\u001b[0m\u001b[1;33m;\u001b[0m\u001b[1;33m\u001b[0m\u001b[1;33m\u001b[0m\u001b[0m\n\u001b[0m\u001b[0;32m     60\u001b[0m         \u001b[1;31m#print(\"Number of Games\", len(dataset[\"GameID\"].unique()));\u001b[0m\u001b[1;33m\u001b[0m\u001b[1;33m\u001b[0m\u001b[1;33m\u001b[0m\u001b[0m\n\u001b[0;32m     61\u001b[0m         \u001b[0md\u001b[0m\u001b[1;33m[\u001b[0m\u001b[1;34m\"# Games\"\u001b[0m\u001b[1;33m]\u001b[0m \u001b[1;33m=\u001b[0m \u001b[1;33m[\u001b[0m\u001b[0mlen\u001b[0m\u001b[1;33m(\u001b[0m\u001b[0mdataset\u001b[0m\u001b[1;33m[\u001b[0m\u001b[1;34m\"GameID\"\u001b[0m\u001b[1;33m]\u001b[0m\u001b[1;33m.\u001b[0m\u001b[0munique\u001b[0m\u001b[1;33m(\u001b[0m\u001b[1;33m)\u001b[0m\u001b[1;33m)\u001b[0m\u001b[1;33m]\u001b[0m\u001b[1;33m;\u001b[0m\u001b[1;33m\u001b[0m\u001b[1;33m\u001b[0m\u001b[0m\n",
      "\u001b[1;31mNameError\u001b[0m: name 'data' is not defined"
     ]
    }
   ],
   "source": [
    "success_type = {\"Make 2 Pts\":2, \"Make 3 Pts\":3, \"1 Pts\":1, \"Made\":1}\n",
    "\n",
    "def getPts(result):\n",
    "    if result not in success_type:\n",
    "        return 0\n",
    "    return success_type[result]\n",
    "\n",
    "def getPlayPts(play, playType):\n",
    "    if (playType in play):\n",
    "        shot = getShotType(play)\n",
    "        return getPts(shot)\n",
    "    return 0\n",
    "def getPlayCount(playSeries, playType):\n",
    "    checkPlay = lambda play : playType in play\n",
    "    mapped = playSeries.map(checkPlay).value_counts()\n",
    "    if True in mapped:\n",
    "        return playSeries.map(checkPlay).value_counts()[True]\n",
    "    return 0\n",
    "def checkFailurePlay(play, playType):\n",
    "    return playType in play and getShotType(play) not in success_type\n",
    "def checkSuccessfulPlay(play, playType):\n",
    "    return playType in play and getShotType(play) in success_type\n",
    "def getShotType(play):\n",
    "    index = play.rfind(\">\")\n",
    "    return play[index+2:]\n",
    "def getPlayEfficiency(playSeries, t):\n",
    "    return playSeries.apply(getPlayPts, playType=t).sum()/getPlayCount(playSeries, t)\n",
    "    \n",
    "def getPossessions(dataset):\n",
    "    series = dataset.loc[(dataset.Result.notnull()) & (dataset.Result != \"Run Offense\") & (dataset.Result != \"Free Throw\")][\"Result\"]\n",
    "    return len(series)\n",
    "\n",
    "\n",
    "def getPlayType(play):\n",
    "    start = play.find(\">\")\n",
    "    end = play.find(\">\", start+1)\n",
    "    return play[start+2:end-1]\n",
    "\n",
    "def getPlayTypeTwo(play):\n",
    "    if \"Ball Delivered\" in play:\n",
    "        ball_delivered = play.find(\"Ball Delivered >\")\n",
    "        first_arrow = play.find(\">\", ball_delivered)\n",
    "        second_arrow = play.find(\">\", first_arrow + 1)\n",
    "        third_arrow = play.find(\">\", second_arrow + 1)\n",
    "        return play[second_arrow+2:third_arrow-1]\n",
    "    else:\n",
    "        return \"\"\n",
    "\n",
    "def getStats(country, tournament=-1, ID=-1):\n",
    "    d = dict()\n",
    "    if (ID != -1):\n",
    "        print(country, ID)\n",
    "        dataset = data.loc[(data.GameID == ID) & (data.Team == country)];\n",
    "    else:\n",
    "        d[\"Offensive/Defensive\"] = [\"Offensive\"]\n",
    "        d[\"Country\"] = [country]\n",
    "        d[\"Tournament\"] = [tournament]\n",
    "        #print(country, tournament)\n",
    "        dataset = data.loc[(data.Team == country) & (data.Region == tournament)];\n",
    "        #print(\"Number of Games\", len(dataset[\"GameID\"].unique()));\n",
    "        d[\"# Games\"] = [len(dataset[\"GameID\"].unique())];\n",
    "    series = dataset.loc[(dataset.Result.notnull())][\"Play Details\"];\n",
    "    playTypes = series.apply(getPlayType);\n",
    "    secondPlayTypes=series.apply(getPlayTypeTwo);\n",
    "    typeCounts = playTypes.value_counts();\n",
    "    secondCounts = secondPlayTypes.value_counts();\n",
    "    if \"P&R Roll Man\" in secondCounts:\n",
    "        typeCounts[\"P&R Roll Man\"] = 0;\n",
    "    typeCounts.update(secondCounts);\n",
    "    if (tournament==-1):\n",
    "        lastRow = data.loc[data.GameID == ID].iloc[-1]\n",
    "        if(country == lastRow[\"Home Team\"]):\n",
    "            print(\"Total Pts\", lastRow[\"Home Score\"])\n",
    "        else:\n",
    "            print(\"Total Pts\", lastRow[\"Away Score\"])\n",
    "    \n",
    "    #print(\"Number of Possessions\", getPossessions(dataset))\n",
    "    d[\"# Possessions\"] = [getPossessions(dataset)];\n",
    "    play_types = ['Hand Off', 'P&R Ball Handler', 'Cut', 'Offensive Rebound', 'Spot-Up',\n",
    " 'No Play Type', 'Transition', 'Non Possession', 'Off Screen', 'Post-Up', 'ISO', \"P&R Roll Man\"]\n",
    "    play_types = list((set(play_types)).union(set(playTypes)));\n",
    "    play_types.remove('Non Possession')\n",
    "    for play in play_types:\n",
    "        if play in typeCounts:\n",
    "            #print(play, round(getPlayEfficiency(series, play),3), typeCounts[play]);\n",
    "            d[play + \" Pts per Possession\"] = 0\n",
    "            d[play + \" Pts per Possession\"] = [round(getPlayEfficiency(series, play),3)];\n",
    "            d[play + \" Play %\"] = 0\n",
    "            d[play + \" Play %\"] = [round((typeCounts[play]/d[\"# Possessions\"])[0]*100,2)];\n",
    "    return pd.DataFrame(data=d)\n",
    "\n",
    "\n",
    "            \n",
    "            \n",
    "def getDefensiveStats(country, tournament=-1):\n",
    "    d = dict();\n",
    "    d[\"Offensive/Defensive\"] = [\"Defensive\"]\n",
    "    d[\"Country\"] = [country]\n",
    "    d[\"Tournament\"] = [tournament]\n",
    "    dataset = data.loc[((data[\"Home Team\"] == country) | (data[\"Away Team\"] == country)) & (data.Region == tournament)];\n",
    "    dataset = dataset.loc[data.Team != country];\n",
    "    series = dataset.loc[(dataset.Result.notnull())][\"Play Details\"];\n",
    "    playTypes = series.apply(getPlayType);\n",
    "    secondPlayTypes=series.apply(getPlayTypeTwo);\n",
    "    typeCounts = playTypes.value_counts();\n",
    "    secondCounts = secondPlayTypes.value_counts();\n",
    "    if \"P&R Roll Man\" in secondCounts:\n",
    "        typeCounts[\"P&R Roll Man\"] = 0;\n",
    "    typeCounts.update(secondCounts);\n",
    "    d[\"# Games\"] = [len(dataset[\"GameID\"].unique())];\n",
    "    #print(\"Number of Possessions\", getPossessions(dataset))\n",
    "    d[\"# Possessions\"] = [getPossessions(dataset)];\n",
    "    play_types = ['Hand Off', 'P&R Ball Handler', 'Cut', 'Offensive Rebound', 'Spot-Up',\n",
    " 'No Play Type', 'Transition', 'Non Possession', 'Off Screen', 'Post-Up', 'ISO', \"P&R Roll Man\"]\n",
    "    play_types = list((set(play_types)).union(set(playTypes)));\n",
    "    play_types.remove('Non Possession')\n",
    "    for play in play_types:\n",
    "        if play in typeCounts:\n",
    "            #print(play, round(getPlayEfficiency(series, play),3), typeCounts[play]);            \n",
    "            d[play + \" Pts per Possession\"] = 0\n",
    "            d[play + \" Pts per Possession\"] = [round(getPlayEfficiency(series, play),3)];\n",
    "            d[play + \" Play %\"] = 0\n",
    "            d[play + \" Play %\"] = [round((typeCounts[play]/d[\"# Possessions\"])[0]*100,2)];\n",
    "    return pd.DataFrame(data=d)\n",
    "\n",
    "\n",
    "newData = pd.DataFrame()    \n",
    "\n",
    "teams = ['Spain', 'Argentina', 'Australia', 'France', 'Serbia', 'Czech Republic', 'USA', 'Poland', 'Brazil', 'Germany', 'Canada', 'New Zealand', 'Turkey', 'Greece', 'Lithuania', 'Dominican Republic', 'Senegal', 'Jordan', 'Montenegro', 'Japan', 'Nigeria', 'China', 'Iran', 'Philippines', 'Italy', 'Puerto Rico', 'Russia', 'Venezuela', 'Korea', 'Ivory Coast', 'Tunisia', 'Angola', 'Mali', 'Central African Republic', 'Rwanda', 'Morocco', 'Chad', 'Cameroon', 'Egypt', 'Guinea', 'Uganda', 'Democratic Republic of Congo', 'Mozambique', 'Uruguay', 'Mexico', 'Panama', 'Virgin Islands', 'Chile', 'Colombia', 'Bahamas', 'Paraguay', 'Cuba', 'Kazakhstan', 'Qatar', 'Lebanon', 'Syria', 'Chinese Taipei', 'Iraq', 'Hong Kong', 'India', 'Netherlands', 'Latvia', 'Ukraine', 'Slovenia', 'Hungary', 'Croatia', 'Bosnia and Herzegovina', 'Bulgaria', 'Estonia', 'Georgia', 'Israel', 'Finland', 'Belgium', 'Iceland', 'Austria', 'Great Britain', 'Kosovo', 'Belarus', 'Romania', 'Sweden', 'South Africa', 'Algeria', 'Gabon', 'Cape Verde', 'Zimbabwe', 'Macedonia', 'Palestine', 'Singapore', 'Kuwait', 'Malaysia', 'Jamaica', 'Bahrain', 'Saudi Arabia']\n",
    "\n",
    "print(\"Starting stat generation\")\n",
    "for region in ['2019 World Cup' ,'2019 World Cup American Qualifiers',\n",
    " '2019 World Cup Asian Qualifiers', '2019 World Cup Europe Qualifiers',\n",
    " '2017 AmeriCup', '2017 AsiaCup', '2017 EuroBasket', '2016 Olympics',\n",
    " '2016 Olympic Qualifying Tournaments', '2015 AmeriCup', '2015 EuroBasket',\n",
    " '2015 AsiaCup', '2014 World Cup', '2013 AmeriCup', '2013 EuroBasket',\n",
    " '2013 AsiaCup']:\n",
    "    for team in teams:\n",
    "        print(region, team)\n",
    "        temp = getStats(country=team, tournament=region)\n",
    "        temp = temp.loc[temp[\"# Games\"] != 0]\n",
    "        newData = newData.append(temp, sort=True)\n",
    "        temp = getDefensiveStats(country=team, tournament=region)\n",
    "        temp = temp.loc[temp[\"# Games\"] != 0]\n",
    "        newData = newData.append(temp, sort=True)\n",
    "        \n",
    "newData.to_csv(\"Data/FullData.csv\")"
   ]
  }
 ],
 "metadata": {
  "kernelspec": {
   "display_name": "Python 3",
   "language": "python",
   "name": "python3"
  },
  "language_info": {
   "codemirror_mode": {
    "name": "ipython",
    "version": 3
   },
   "file_extension": ".py",
   "mimetype": "text/x-python",
   "name": "python",
   "nbconvert_exporter": "python",
   "pygments_lexer": "ipython3",
   "version": "3.7.6"
  }
 },
 "nbformat": 4,
 "nbformat_minor": 4
}
