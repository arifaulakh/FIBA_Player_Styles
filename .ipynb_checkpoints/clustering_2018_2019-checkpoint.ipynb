{
 "cells": [
  {
   "cell_type": "code",
   "execution_count": 0,
   "metadata": {
    "colab": {},
    "colab_type": "code",
    "id": "ZjjGd6UWDQ4A"
   },
   "outputs": [],
   "source": [
    "import pandas as pd\n",
    "import seaborn as sb\n",
    "import matplotlib.pyplot as plt"
   ]
  },
  {
   "cell_type": "code",
   "execution_count": 3,
   "metadata": {
    "colab": {
     "base_uri": "https://localhost:8080/",
     "height": 122
    },
    "colab_type": "code",
    "executionInfo": {
     "elapsed": 27234,
     "status": "ok",
     "timestamp": 1591843162489,
     "user": {
      "displayName": "Arif Aulakh",
      "photoUrl": "https://lh3.googleusercontent.com/a-/AOh14GiSKqHOXcGSrSoF_iKNgN3ZZ9scsaRbhtacY7TZRg=s64",
      "userId": "00300221670410344892"
     },
     "user_tz": 240
    },
    "id": "9rCgEmkoDomh",
    "outputId": "a21eb2e1-acce-464f-f350-1632abdda0c7"
   },
   "outputs": [
    {
     "name": "stdout",
     "output_type": "stream",
     "text": [
      "Go to this URL in a browser: https://accounts.google.com/o/oauth2/auth?client_id=947318989803-6bn6qk8qdgf4n4g3pfee6491hc0brc4i.apps.googleusercontent.com&redirect_uri=urn%3aietf%3awg%3aoauth%3a2.0%3aoob&response_type=code&scope=email%20https%3a%2f%2fwww.googleapis.com%2fauth%2fdocs.test%20https%3a%2f%2fwww.googleapis.com%2fauth%2fdrive%20https%3a%2f%2fwww.googleapis.com%2fauth%2fdrive.photos.readonly%20https%3a%2f%2fwww.googleapis.com%2fauth%2fpeopleapi.readonly\n",
      "\n",
      "Enter your authorization code:\n",
      "··········\n",
      "Mounted at /content/gdrive\n"
     ]
    }
   ],
   "source": [
    "from google.colab import drive\n",
    "drive.mount('/content/gdrive')\n",
    "import os\n",
    "os.chdir('/content/gdrive/My Drive/Clustering')"
   ]
  },
  {
   "cell_type": "code",
   "execution_count": 5,
   "metadata": {
    "colab": {
     "base_uri": "https://localhost:8080/",
     "height": 204
    },
    "colab_type": "code",
    "executionInfo": {
     "elapsed": 23422,
     "status": "ok",
     "timestamp": 1591843164030,
     "user": {
      "displayName": "Arif Aulakh",
      "photoUrl": "https://lh3.googleusercontent.com/a-/AOh14GiSKqHOXcGSrSoF_iKNgN3ZZ9scsaRbhtacY7TZRg=s64",
      "userId": "00300221670410344892"
     },
     "user_tz": 240
    },
    "id": "lO5EEFEzba08",
    "outputId": "88ebe980-304e-4ca6-80ff-e58418e5a5fd"
   },
   "outputs": [
    {
     "data": {
      "text/html": [
       "<div>\n",
       "<style scoped>\n",
       "    .dataframe tbody tr th:only-of-type {\n",
       "        vertical-align: middle;\n",
       "    }\n",
       "\n",
       "    .dataframe tbody tr th {\n",
       "        vertical-align: top;\n",
       "    }\n",
       "\n",
       "    .dataframe thead th {\n",
       "        text-align: right;\n",
       "    }\n",
       "</style>\n",
       "<table border=\"1\" class=\"dataframe\">\n",
       "  <thead>\n",
       "    <tr style=\"text-align: right;\">\n",
       "      <th></th>\n",
       "      <th>FULL NAME</th>\n",
       "      <th>TEAM</th>\n",
       "      <th>POS</th>\n",
       "      <th>AGE</th>\n",
       "      <th>GP</th>\n",
       "      <th>MPG</th>\n",
       "      <th>MIN%</th>\n",
       "      <th>USG%</th>\n",
       "      <th>Tor%</th>\n",
       "      <th>FTA</th>\n",
       "      <th>FT%</th>\n",
       "      <th>2PA</th>\n",
       "      <th>2P%</th>\n",
       "      <th>3PA</th>\n",
       "      <th>3P%</th>\n",
       "      <th>eFG%</th>\n",
       "      <th>TS%</th>\n",
       "      <th>PPG</th>\n",
       "      <th>RPG</th>\n",
       "      <th>TRB%</th>\n",
       "      <th>APG</th>\n",
       "      <th>AST%</th>\n",
       "      <th>SPG</th>\n",
       "      <th>BPG</th>\n",
       "      <th>TOPG</th>\n",
       "      <th>VI</th>\n",
       "      <th>ORTG</th>\n",
       "      <th>DRTG</th>\n",
       "    </tr>\n",
       "  </thead>\n",
       "  <tbody>\n",
       "    <tr>\n",
       "      <th>0</th>\n",
       "      <td>Alex Abrines</td>\n",
       "      <td>Okc</td>\n",
       "      <td>G</td>\n",
       "      <td>25.69</td>\n",
       "      <td>31</td>\n",
       "      <td>19.0</td>\n",
       "      <td>39.5</td>\n",
       "      <td>12.2</td>\n",
       "      <td>7.9</td>\n",
       "      <td>13</td>\n",
       "      <td>0.923</td>\n",
       "      <td>30</td>\n",
       "      <td>0.500</td>\n",
       "      <td>127</td>\n",
       "      <td>0.323</td>\n",
       "      <td>0.487</td>\n",
       "      <td>0.507</td>\n",
       "      <td>5.3</td>\n",
       "      <td>1.5</td>\n",
       "      <td>4.2</td>\n",
       "      <td>0.6</td>\n",
       "      <td>4.3</td>\n",
       "      <td>0.55</td>\n",
       "      <td>0.19</td>\n",
       "      <td>0.45</td>\n",
       "      <td>3.5</td>\n",
       "      <td>103.1</td>\n",
       "      <td>103.9</td>\n",
       "    </tr>\n",
       "    <tr>\n",
       "      <th>1</th>\n",
       "      <td>Quincy Acy</td>\n",
       "      <td>Pho</td>\n",
       "      <td>F</td>\n",
       "      <td>28.51</td>\n",
       "      <td>10</td>\n",
       "      <td>12.3</td>\n",
       "      <td>25.6</td>\n",
       "      <td>9.2</td>\n",
       "      <td>15.2</td>\n",
       "      <td>10</td>\n",
       "      <td>0.700</td>\n",
       "      <td>3</td>\n",
       "      <td>0.667</td>\n",
       "      <td>15</td>\n",
       "      <td>0.133</td>\n",
       "      <td>0.278</td>\n",
       "      <td>0.379</td>\n",
       "      <td>1.7</td>\n",
       "      <td>2.5</td>\n",
       "      <td>11.3</td>\n",
       "      <td>0.8</td>\n",
       "      <td>8.2</td>\n",
       "      <td>0.10</td>\n",
       "      <td>0.40</td>\n",
       "      <td>0.40</td>\n",
       "      <td>4.9</td>\n",
       "      <td>87.1</td>\n",
       "      <td>98.5</td>\n",
       "    </tr>\n",
       "    <tr>\n",
       "      <th>2</th>\n",
       "      <td>Jaylen Adams</td>\n",
       "      <td>Atl</td>\n",
       "      <td>G</td>\n",
       "      <td>22.93</td>\n",
       "      <td>34</td>\n",
       "      <td>12.6</td>\n",
       "      <td>26.2</td>\n",
       "      <td>13.5</td>\n",
       "      <td>19.7</td>\n",
       "      <td>9</td>\n",
       "      <td>0.778</td>\n",
       "      <td>36</td>\n",
       "      <td>0.361</td>\n",
       "      <td>74</td>\n",
       "      <td>0.338</td>\n",
       "      <td>0.459</td>\n",
       "      <td>0.474</td>\n",
       "      <td>3.2</td>\n",
       "      <td>1.8</td>\n",
       "      <td>7.5</td>\n",
       "      <td>1.9</td>\n",
       "      <td>20.2</td>\n",
       "      <td>0.38</td>\n",
       "      <td>0.15</td>\n",
       "      <td>0.82</td>\n",
       "      <td>7.0</td>\n",
       "      <td>99.5</td>\n",
       "      <td>108.1</td>\n",
       "    </tr>\n",
       "    <tr>\n",
       "      <th>3</th>\n",
       "      <td>Steven Adams</td>\n",
       "      <td>Okc</td>\n",
       "      <td>C</td>\n",
       "      <td>25.73</td>\n",
       "      <td>80</td>\n",
       "      <td>33.4</td>\n",
       "      <td>69.5</td>\n",
       "      <td>16.4</td>\n",
       "      <td>12.8</td>\n",
       "      <td>292</td>\n",
       "      <td>0.500</td>\n",
       "      <td>807</td>\n",
       "      <td>0.596</td>\n",
       "      <td>2</td>\n",
       "      <td>0.000</td>\n",
       "      <td>0.595</td>\n",
       "      <td>0.591</td>\n",
       "      <td>13.9</td>\n",
       "      <td>9.5</td>\n",
       "      <td>14.7</td>\n",
       "      <td>1.6</td>\n",
       "      <td>6.6</td>\n",
       "      <td>1.49</td>\n",
       "      <td>0.96</td>\n",
       "      <td>1.73</td>\n",
       "      <td>7.1</td>\n",
       "      <td>119.9</td>\n",
       "      <td>102.7</td>\n",
       "    </tr>\n",
       "    <tr>\n",
       "      <th>4</th>\n",
       "      <td>Bam Adebayo</td>\n",
       "      <td>Mia</td>\n",
       "      <td>C-F</td>\n",
       "      <td>21.73</td>\n",
       "      <td>82</td>\n",
       "      <td>23.3</td>\n",
       "      <td>48.6</td>\n",
       "      <td>15.8</td>\n",
       "      <td>17.1</td>\n",
       "      <td>226</td>\n",
       "      <td>0.735</td>\n",
       "      <td>471</td>\n",
       "      <td>0.588</td>\n",
       "      <td>15</td>\n",
       "      <td>0.200</td>\n",
       "      <td>0.579</td>\n",
       "      <td>0.623</td>\n",
       "      <td>8.9</td>\n",
       "      <td>7.3</td>\n",
       "      <td>16.6</td>\n",
       "      <td>2.2</td>\n",
       "      <td>14.2</td>\n",
       "      <td>0.88</td>\n",
       "      <td>0.79</td>\n",
       "      <td>1.48</td>\n",
       "      <td>9.0</td>\n",
       "      <td>120.0</td>\n",
       "      <td>97.2</td>\n",
       "    </tr>\n",
       "  </tbody>\n",
       "</table>\n",
       "</div>"
      ],
      "text/plain": [
       "      FULL NAME TEAM  POS    AGE  GP   MPG  ...   SPG   BPG  TOPG   VI   ORTG   DRTG\n",
       "0  Alex Abrines  Okc    G  25.69  31  19.0  ...  0.55  0.19  0.45  3.5  103.1  103.9\n",
       "1    Quincy Acy  Pho    F  28.51  10  12.3  ...  0.10  0.40  0.40  4.9   87.1   98.5\n",
       "2  Jaylen Adams  Atl    G  22.93  34  12.6  ...  0.38  0.15  0.82  7.0   99.5  108.1\n",
       "3  Steven Adams  Okc    C  25.73  80  33.4  ...  1.49  0.96  1.73  7.1  119.9  102.7\n",
       "4   Bam Adebayo  Mia  C-F  21.73  82  23.3  ...  0.88  0.79  1.48  9.0  120.0   97.2\n",
       "\n",
       "[5 rows x 28 columns]"
      ]
     },
     "execution_count": 5,
     "metadata": {
      "tags": []
     },
     "output_type": "execute_result"
    }
   ],
   "source": [
    "df = pd.read_csv('2018_2019_stats.csv')\n",
    "df.head()"
   ]
  },
  {
   "cell_type": "code",
   "execution_count": 6,
   "metadata": {
    "colab": {
     "base_uri": "https://localhost:8080/",
     "height": 34
    },
    "colab_type": "code",
    "executionInfo": {
     "elapsed": 23400,
     "status": "ok",
     "timestamp": 1591843164031,
     "user": {
      "displayName": "Arif Aulakh",
      "photoUrl": "https://lh3.googleusercontent.com/a-/AOh14GiSKqHOXcGSrSoF_iKNgN3ZZ9scsaRbhtacY7TZRg=s64",
      "userId": "00300221670410344892"
     },
     "user_tz": 240
    },
    "id": "FWaB6GL_cMGA",
    "outputId": "e18b7aef-53e0-4c54-ffc3-164f6cd18ef7"
   },
   "outputs": [
    {
     "data": {
      "text/plain": [
       "(597, 28)"
      ]
     },
     "execution_count": 6,
     "metadata": {
      "tags": []
     },
     "output_type": "execute_result"
    }
   ],
   "source": [
    "df = df.dropna() #remove players that do not have ORTG and DRTG values\n",
    "df.shape #new shape after dropping certain rows"
   ]
  },
  {
   "cell_type": "code",
   "execution_count": 7,
   "metadata": {
    "colab": {
     "base_uri": "https://localhost:8080/",
     "height": 493
    },
    "colab_type": "code",
    "executionInfo": {
     "elapsed": 24050,
     "status": "ok",
     "timestamp": 1591843164708,
     "user": {
      "displayName": "Arif Aulakh",
      "photoUrl": "https://lh3.googleusercontent.com/a-/AOh14GiSKqHOXcGSrSoF_iKNgN3ZZ9scsaRbhtacY7TZRg=s64",
      "userId": "00300221670410344892"
     },
     "user_tz": 240
    },
    "id": "D_J7H59Z9hIG",
    "outputId": "a277fa03-ee1e-4101-b366-6d1071f3b2e2"
   },
   "outputs": [
    {
     "data": {
      "text/plain": [
       "array([2, 2, 2, 3, 3, 2, 1, 2, 2, 3, 2, 4, 2, 0, 2, 2, 1, 2, 2, 0, 0, 2,\n",
       "       4, 4, 3, 0, 3, 2, 2, 2, 0, 0, 0, 4, 0, 0, 2, 4, 2, 0, 4, 1, 4, 2,\n",
       "       4, 2, 3, 2, 0, 2, 0, 2, 2, 4, 0, 3, 2, 1, 4, 2, 2, 2, 1, 2, 0, 2,\n",
       "       2, 2, 2, 0, 4, 2, 2, 3, 2, 2, 0, 0, 3, 2, 0, 0, 0, 0, 2, 0, 2, 2,\n",
       "       0, 2, 2, 2, 3, 2, 2, 4, 2, 2, 2, 3, 4, 0, 2, 0, 2, 2, 2, 2, 3, 2,\n",
       "       2, 2, 2, 2, 2, 2, 2, 2, 0, 1, 3, 0, 3, 2, 1, 0, 0, 0, 2, 2, 0, 0,\n",
       "       0, 2, 2, 4, 2, 0, 4, 2, 1, 2, 0, 0, 2, 2, 2, 2, 2, 2, 1, 2, 0, 2,\n",
       "       0, 4, 2, 1, 2, 2, 4, 2, 0, 1, 2, 0, 1, 2, 2, 2, 2, 2, 1, 2, 2, 2,\n",
       "       2, 2, 3, 0, 2, 0, 3, 2, 2, 0, 0, 0, 4, 4, 1, 2, 2, 2, 2, 2, 2, 3,\n",
       "       4, 2, 3, 2, 2, 2, 3, 1, 3, 0, 3, 3, 3, 4, 2, 2, 2, 3, 2, 4, 0, 4,\n",
       "       0, 2, 4, 1, 2, 2, 4, 0, 1, 0, 1, 0, 4, 4, 2, 2, 2, 0, 3, 0, 2, 0,\n",
       "       2, 4, 2, 0, 0, 0, 2, 1, 2, 2, 0, 2, 0, 1, 0, 0, 3, 0, 0, 2, 3, 2,\n",
       "       2, 4, 2, 2, 2, 3, 0, 0, 4, 3, 1, 4, 0, 3, 2, 0, 3, 0, 2, 4, 1, 2,\n",
       "       2, 0, 2, 2, 2, 2, 0, 0, 2, 0, 2, 2, 2, 1, 0, 2, 2, 2, 0, 0, 2, 0,\n",
       "       0, 3, 0, 0, 0, 0, 2, 2, 3, 2, 2, 2, 0, 2, 0, 1, 2, 2, 3, 1, 0, 2,\n",
       "       2, 2, 2, 2, 3, 1, 2, 2, 0, 1, 0, 2, 0, 0, 4, 3, 0, 4, 2, 2, 2, 2,\n",
       "       0, 2, 0, 2, 2, 2, 2, 2, 2, 2, 2, 4, 2, 2, 2, 0, 2, 2, 2, 2, 2, 2,\n",
       "       1, 0, 0, 3, 0, 0, 2, 2, 2, 2, 0, 2, 1, 2, 2, 4, 2, 3, 4, 2, 0, 2,\n",
       "       1, 2, 4, 2, 2, 0, 2, 2, 4, 0, 2, 3, 2, 2, 3, 1, 2, 2, 2, 2, 2, 2,\n",
       "       0, 0, 2, 2, 2, 0, 0, 0, 0, 2, 2, 3, 0, 2, 0, 0, 0, 0, 4, 0, 2, 4,\n",
       "       0, 0, 0, 0, 0, 0, 2, 2, 2, 4, 2, 2, 2, 0, 2, 3, 2, 0, 2, 0, 2, 0,\n",
       "       0, 0, 0, 2, 4, 0, 2, 1, 4, 2, 2, 4, 2, 2, 0, 2, 2, 2, 2, 0, 0, 3,\n",
       "       4, 4, 3, 1, 3, 2, 2, 2, 4, 0, 1, 2, 2, 2, 2, 0, 1, 0, 2, 0, 2, 3,\n",
       "       2, 1, 0, 2, 2, 4, 0, 0, 0, 2, 2, 2, 2, 2, 0, 2, 2, 2, 2, 2, 0, 2,\n",
       "       2, 2, 3, 0, 0, 2, 2, 2, 2, 0, 2, 2, 2, 1, 0, 2, 2, 1, 2, 3, 4, 0,\n",
       "       3, 2, 0, 0, 2, 4, 0, 1, 3, 2, 0, 2, 1, 0, 0, 2, 3, 2, 2, 1, 0, 3,\n",
       "       1, 2, 2, 2, 2, 2, 1, 4, 2, 2, 3, 2, 2, 0, 0, 2, 2, 3, 1, 0, 2, 2,\n",
       "       0, 0, 2], dtype=int32)"
      ]
     },
     "execution_count": 7,
     "metadata": {
      "tags": []
     },
     "output_type": "execute_result"
    }
   ],
   "source": [
    "#Use KMeans to cluster players\n",
    "from sklearn.cluster import KMeans\n",
    "test_model = KMeans(n_clusters = 5, random_state = 1) #test using just 5 clusters\n",
    "num_data = df._get_numeric_data().dropna(axis = 1)\n",
    "test_model.fit(num_data)\n",
    "labels = test_model.labels_\n",
    "labels"
   ]
  },
  {
   "cell_type": "code",
   "execution_count": 15,
   "metadata": {
    "colab": {
     "base_uri": "https://localhost:8080/",
     "height": 85
    },
    "colab_type": "code",
    "executionInfo": {
     "elapsed": 351,
     "status": "ok",
     "timestamp": 1591843647219,
     "user": {
      "displayName": "Arif Aulakh",
      "photoUrl": "https://lh3.googleusercontent.com/a-/AOh14GiSKqHOXcGSrSoF_iKNgN3ZZ9scsaRbhtacY7TZRg=s64",
      "userId": "00300221670410344892"
     },
     "user_tz": 240
    },
    "id": "fT2zo8ndlWBv",
    "outputId": "756cf875-135c-4a9f-e1b0-54f706d6c770"
   },
   "outputs": [
    {
     "name": "stdout",
     "output_type": "stream",
     "text": [
      "[1]\n",
      "[1]\n",
      "[4]\n",
      "[2]\n"
     ]
    }
   ],
   "source": [
    "#Test which clusters certain players are in\n",
    "dame_lillard = num_data.loc[df['FULL NAME']=='Damian Lillard', :]\n",
    "kyrie_irving = num_data.loc[df['FULL NAME']=='Kyrie Irving', :]\n",
    "jj_redick = num_data.loc[df['FULL NAME']=='JJ Redick', :]\n",
    "alex_abrines = num_data.loc[df['FULL NAME'] == 'Alex Abrines', :]\n",
    "dame_list = dame_lillard.values.tolist()\n",
    "kyrie_list = kyrie_irving.values.tolist()\n",
    "jj_list = jj_redick.values.tolist()\n",
    "abrines_list = alex_abrines.values.tolist()\n",
    "dame_cluster = test_model.predict(dame_list)\n",
    "kyrie_cluster = test_model.predict(kyrie_list)\n",
    "jj_cluster = test_model.predict(jj_list)\n",
    "abrines_cluster = test_model.predict(abrines_list)\n",
    "print(dame_cluster)\n",
    "print(kyrie_cluster)\n",
    "print(jj_cluster)\n",
    "print(abrines_cluster)"
   ]
  },
  {
   "cell_type": "code",
   "execution_count": 0,
   "metadata": {
    "colab": {},
    "colab_type": "code",
    "id": "eIURYhvvqcKl"
   },
   "outputs": [],
   "source": [
    "player_clusters = {}\n",
    "for player in df['FULL NAME']:\n",
    "  player_data = num_data.loc[df['FULL NAME']==player, :]\n",
    "  player_list = player_data.values.tolist()\n",
    "  player_cluster = test_model.predict(player_list)\n",
    "  player_clusters[player] = player_cluster[0]"
   ]
  },
  {
   "cell_type": "code",
   "execution_count": 17,
   "metadata": {
    "colab": {
     "base_uri": "https://localhost:8080/",
     "height": 1000
    },
    "colab_type": "code",
    "executionInfo": {
     "elapsed": 387,
     "status": "ok",
     "timestamp": 1591844511703,
     "user": {
      "displayName": "Arif Aulakh",
      "photoUrl": "https://lh3.googleusercontent.com/a-/AOh14GiSKqHOXcGSrSoF_iKNgN3ZZ9scsaRbhtacY7TZRg=s64",
      "userId": "00300221670410344892"
     },
     "user_tz": 240
    },
    "id": "3-yASJ8hryfL",
    "outputId": "39650b70-4bc1-49d6-fc61-687d709f3ef9"
   },
   "outputs": [
    {
     "name": "stdout",
     "output_type": "stream",
     "text": [
      "Kyle Anderson\n",
      "OG Anunoby\n",
      "Ryan Arcidiacono\n",
      "Dwayne Bacon\n",
      "Lonzo Ball\n",
      "Mo Bamba\n",
      "J.J. Barea\n",
      "Will Barton\n",
      "Aron Baynes\n",
      "Davis Bertans\n",
      "Patrick Beverley\n",
      "Antonio Blakeney\n",
      "Avery Bradley\n",
      "Miles Bridges\n",
      "Troy Brown Jr.\n",
      "Bruce Brown\n",
      "Sterling Brown\n",
      "Jalen Brunson\n",
      "Thomas Bryant\n",
      "Reggie Bullock\n",
      "Trey Burke\n",
      "Wendell Carter Jr.\n",
      "Vince Carter\n",
      "Ian Clark\n",
      "Zach Collins\n",
      "Pat Connaughton\n",
      "Quinn Cook\n",
      "DeMarcus Cousins\n",
      "Allen Crabbe\n",
      "Torrey Craig\n",
      "Jamal Crawford\n",
      "Seth Curry\n",
      "Ed Davis\n",
      "Dewayne Dedmon\n",
      "Cheick Diallo\n",
      "Gorgui Dieng\n",
      "Goran Dragic\n",
      "Kris Dunn\n",
      "Dante Exum\n",
      "Terrance Ferguson\n",
      "Yogi Ferrell\n",
      "Dorian Finney-Smith\n",
      "Harry Giles III\n",
      "Draymond Green\n",
      "JaMychal Green\n",
      "Maurice Harkless\n",
      "Devin Harris\n",
      "Shaquille Harrison\n",
      "Josh Hart\n",
      "Juancho Hernangomez\n",
      "Willy Hernangomez\n",
      "Mario Hezonja\n",
      "Aaron Holiday\n",
      "Justin Holiday\n",
      "Richaun Holmes\n",
      "Rodney Hood\n",
      "Andre Iguodala\n",
      "Ersan Ilyasova\n",
      "Wes Iwundu\n",
      "Frank Jackson\n",
      "Justin Jackson\n",
      "Jonas Jerebko\n",
      "James Johnson\n",
      "Stanley Johnson\n",
      "Tyler Johnson\n",
      "Derrick Jones Jr.\n",
      "Tyus Jones\n",
      "DeAndre Jordan\n",
      "Cory Joseph\n",
      "Frank Kaminsky\n",
      "Luke Kennard\n",
      "Michael Kidd-Gilchrist\n",
      "Maxi Kleber\n",
      "Rodions Kurucs\n",
      "Jake Layman\n",
      "Caris LeVert\n",
      "Jeremy Lin\n",
      "Shaun Livingston\n",
      "Kevon Looney\n",
      "Kevin Love\n",
      "Trey Lyles\n",
      "Shelvin Mack\n",
      "Wesley Matthews\n",
      "T.J. McConnell\n",
      "Doug McDermott\n",
      "Rodney McGruder\n",
      "Alfonzo McKinnie\n",
      "De'Anthony Melton\n",
      "Nikola Mirotic\n",
      "E'Twaun Moore\n",
      "Markieff Morris\n",
      "Larry Nance Jr.\n",
      "Shabazz Napier\n",
      "Joakim Noah\n",
      "Nerlens Noel\n",
      "Dirk Nowitzki\n",
      "Frank Ntilikina\n",
      "David Nwaba\n",
      "Jahlil Okafor\n",
      "Elie Okobo\n",
      "Josh Okogie\n",
      "Victor Oladipo\n",
      "Royce O'Neale\n",
      "Kelly Oubre Jr.\n",
      "Zaza Pachulia\n",
      "Jabari Parker\n",
      "Tony Parker\n",
      "Elfrid Payton\n",
      "Jakob Poeltl\n",
      "Otto Porter Jr.\n",
      "Bobby Portis\n",
      "Dwight Powell\n",
      "Norman Powell\n",
      "Ivan Rabb\n",
      "Mitchell Robinson\n",
      "Rajon Rondo\n",
      "Tomas Satoransky\n",
      "Landry Shamet\n",
      "Iman Shumpert\n",
      "Jonathon Simmons\n",
      "Dennis Smith Jr.\n",
      "Ish Smith\n",
      "Tony Snell\n",
      "Lance Stephenson\n",
      "Jeff Teague\n",
      "Garrett Temple\n",
      "Daniel Theis\n",
      "Tristan Thompson\n",
      "Evan Turner\n",
      "Jonas Valanciunas\n",
      "Noah Vonleh\n",
      "Dion Waiters\n",
      "Tyrone Wallace\n",
      "John Wall\n",
      "Derrick White\n",
      "Delon Wright\n",
      "Cody Zeller\n",
      "Ante Zizic\n",
      "Ivica Zubac\n"
     ]
    }
   ],
   "source": [
    "for player in player_clusters:\n",
    "  if player_clusters[player] == 0:\n",
    "    print(player)\n"
   ]
  }
 ],
 "metadata": {
  "colab": {
   "authorship_tag": "ABX9TyNpaqePOdj9PbBne2/TC7Yx",
   "collapsed_sections": [],
   "name": "clustering_2018_2019.ipynb",
   "provenance": []
  },
  "kernelspec": {
   "display_name": "Python 3",
   "language": "python",
   "name": "python3"
  },
  "language_info": {
   "codemirror_mode": {
    "name": "ipython",
    "version": 3
   },
   "file_extension": ".py",
   "mimetype": "text/x-python",
   "name": "python",
   "nbconvert_exporter": "python",
   "pygments_lexer": "ipython3",
   "version": "3.6.5"
  }
 },
 "nbformat": 4,
 "nbformat_minor": 1
}
