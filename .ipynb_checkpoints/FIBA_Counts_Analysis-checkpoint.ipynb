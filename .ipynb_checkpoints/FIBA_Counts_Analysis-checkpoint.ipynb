{
 "cells": [
  {
   "cell_type": "code",
   "execution_count": 1,
   "metadata": {},
   "outputs": [
    {
     "data": {
      "text/html": [
       "<div>\n",
       "<style scoped>\n",
       "    .dataframe tbody tr th:only-of-type {\n",
       "        vertical-align: middle;\n",
       "    }\n",
       "\n",
       "    .dataframe tbody tr th {\n",
       "        vertical-align: top;\n",
       "    }\n",
       "\n",
       "    .dataframe thead th {\n",
       "        text-align: right;\n",
       "    }\n",
       "</style>\n",
       "<table border=\"1\" class=\"dataframe\">\n",
       "  <thead>\n",
       "    <tr style=\"text-align: right;\">\n",
       "      <th></th>\n",
       "      <th>P&amp;R Ball Handler</th>\n",
       "      <th>Spot-Up</th>\n",
       "      <th>Transition</th>\n",
       "      <th>ISO</th>\n",
       "      <th>Post-Up</th>\n",
       "      <th>P&amp;R Roll Man</th>\n",
       "      <th>Cut</th>\n",
       "      <th>Offensive Rebound</th>\n",
       "      <th>Off Screen</th>\n",
       "      <th>Hand Off</th>\n",
       "      <th>Total</th>\n",
       "    </tr>\n",
       "  </thead>\n",
       "  <tbody>\n",
       "    <tr>\n",
       "      <th>Ricky Rubio</th>\n",
       "      <td>284</td>\n",
       "      <td>121</td>\n",
       "      <td>64</td>\n",
       "      <td>20</td>\n",
       "      <td>0</td>\n",
       "      <td>0</td>\n",
       "      <td>9</td>\n",
       "      <td>25</td>\n",
       "      <td>7</td>\n",
       "      <td>16</td>\n",
       "      <td>546</td>\n",
       "    </tr>\n",
       "    <tr>\n",
       "      <th>Luis Scola</th>\n",
       "      <td>0</td>\n",
       "      <td>122</td>\n",
       "      <td>105</td>\n",
       "      <td>19</td>\n",
       "      <td>304</td>\n",
       "      <td>167</td>\n",
       "      <td>125</td>\n",
       "      <td>97</td>\n",
       "      <td>20</td>\n",
       "      <td>1</td>\n",
       "      <td>960</td>\n",
       "    </tr>\n",
       "    <tr>\n",
       "      <th>Rudy Fernandez</th>\n",
       "      <td>109</td>\n",
       "      <td>103</td>\n",
       "      <td>54</td>\n",
       "      <td>33</td>\n",
       "      <td>0</td>\n",
       "      <td>1</td>\n",
       "      <td>20</td>\n",
       "      <td>37</td>\n",
       "      <td>36</td>\n",
       "      <td>12</td>\n",
       "      <td>405</td>\n",
       "    </tr>\n",
       "    <tr>\n",
       "      <th>Juancho Hernangomez</th>\n",
       "      <td>2</td>\n",
       "      <td>53</td>\n",
       "      <td>25</td>\n",
       "      <td>5</td>\n",
       "      <td>5</td>\n",
       "      <td>8</td>\n",
       "      <td>26</td>\n",
       "      <td>35</td>\n",
       "      <td>13</td>\n",
       "      <td>1</td>\n",
       "      <td>173</td>\n",
       "    </tr>\n",
       "    <tr>\n",
       "      <th>Pierre Oriola</th>\n",
       "      <td>0</td>\n",
       "      <td>21</td>\n",
       "      <td>10</td>\n",
       "      <td>0</td>\n",
       "      <td>3</td>\n",
       "      <td>8</td>\n",
       "      <td>18</td>\n",
       "      <td>38</td>\n",
       "      <td>1</td>\n",
       "      <td>1</td>\n",
       "      <td>100</td>\n",
       "    </tr>\n",
       "  </tbody>\n",
       "</table>\n",
       "</div>"
      ],
      "text/plain": [
       "                     P&R Ball Handler  Spot-Up  Transition  ISO  Post-Up  \\\n",
       "Ricky Rubio                       284      121          64   20        0   \n",
       "Luis Scola                          0      122         105   19      304   \n",
       "Rudy Fernandez                    109      103          54   33        0   \n",
       "Juancho Hernangomez                 2       53          25    5        5   \n",
       "Pierre Oriola                       0       21          10    0        3   \n",
       "\n",
       "                     P&R Roll Man  Cut  Offensive Rebound  Off Screen  \\\n",
       "Ricky Rubio                     0    9                 25           7   \n",
       "Luis Scola                    167  125                 97          20   \n",
       "Rudy Fernandez                  1   20                 37          36   \n",
       "Juancho Hernangomez             8   26                 35          13   \n",
       "Pierre Oriola                   8   18                 38           1   \n",
       "\n",
       "                     Hand Off  Total  \n",
       "Ricky Rubio                16    546  \n",
       "Luis Scola                  1    960  \n",
       "Rudy Fernandez             12    405  \n",
       "Juancho Hernangomez         1    173  \n",
       "Pierre Oriola               1    100  "
      ]
     },
     "execution_count": 1,
     "metadata": {},
     "output_type": "execute_result"
    }
   ],
   "source": [
    "import pandas as pd\n",
    "df = pd.read_csv('FIBA_Play_Counts.csv', index_col=0)\n",
    "play_types = list(df.columns)\n",
    "play_types.remove('Total')\n",
    "df.head()"
   ]
  },
  {
   "cell_type": "code",
   "execution_count": 2,
   "metadata": {},
   "outputs": [
    {
     "data": {
      "text/plain": [
       "P&R Ball Handler      58625\n",
       "Spot-Up               44560\n",
       "Transition            27790\n",
       "ISO                   14806\n",
       "Post-Up               20525\n",
       "P&R Roll Man          10502\n",
       "Cut                   16724\n",
       "Offensive Rebound     21521\n",
       "Off Screen             9590\n",
       "Hand Off               5155\n",
       "Total                229798\n",
       "dtype: int64"
      ]
     },
     "execution_count": 2,
     "metadata": {},
     "output_type": "execute_result"
    }
   ],
   "source": [
    "df.sum()"
   ]
  },
  {
   "cell_type": "code",
   "execution_count": 3,
   "metadata": {},
   "outputs": [
    {
     "data": {
      "image/png": "[encoded data removed]",
      "text/plain": [
       "<Figure size 1008x576 with 1 Axes>"
      ]
     },
     "metadata": {
      "needs_background": "light"
     },
     "output_type": "display_data"
    }
   ],
   "source": [
    "import matplotlib.pyplot as plt\n",
    "plt.figure(figsize=(14, 8))\n",
    "df[play_types].boxplot()\n",
    "plt.show()"
   ]
  },
  {
   "cell_type": "code",
   "execution_count": 4,
   "metadata": {},
   "outputs": [
    {
     "name": "stdout",
     "output_type": "stream",
     "text": [
      "P&R Ball Handler: Mantas Kalnietis\n",
      "Spot-Up: Hector Hernandez\n",
      "Transition: Facundo Campazzo\n",
      "ISO: Andray Blatche\n",
      "Post-Up: Luis Scola\n",
      "P&R Roll Man: Luis Scola\n",
      "Cut: Luis Scola\n",
      "Offensive Rebound: Jonas Valanciunas\n",
      "Off Screen: Bojan Bogdanovic\n",
      "Hand Off: Bogdan Bogdanovic\n",
      "Total: Bogdan Bogdanovic\n"
     ]
    }
   ],
   "source": [
    "for col in df.columns:\n",
    "    print(col + \":\", df[col].idxmax())"
   ]
  },
  {
   "cell_type": "code",
   "execution_count": 5,
   "metadata": {},
   "outputs": [
    {
     "data": {
      "image/png": "[encoded data removed]",
      "text/plain": [
       "<Figure size 432x288 with 1 Axes>"
      ]
     },
     "metadata": {
      "needs_background": "light"
     },
     "output_type": "display_data"
    }
   ],
   "source": [
    "s = (df[play_types].astype(bool).sum(axis=1))\n",
    "s.hist(bins=11, density=True)\n",
    "plt.show()"
   ]
  },
  {
   "cell_type": "code",
   "execution_count": 6,
   "metadata": {},
   "outputs": [
    {
     "name": "stdout",
     "output_type": "stream",
     "text": [
      "1 2864\n",
      "10 2350\n",
      "20 1980\n",
      "30 1672\n",
      "50 1307\n",
      "100 726\n",
      "200 287\n"
     ]
    }
   ],
   "source": [
    "for t in (1, 10, 20, 30, 50, 100, 200):\n",
    "    print(t, (df['Total'] >= t).sum())"
   ]
  },
  {
   "cell_type": "code",
   "execution_count": 7,
   "metadata": {},
   "outputs": [],
   "source": [
    "for p in play_types:\n",
    "    df['% ' + p] = df[p] / df['Total']"
   ]
  },
  {
   "cell_type": "code",
   "execution_count": 8,
   "metadata": {},
   "outputs": [
    {
     "data": {
      "text/html": [
       "<div>\n",
       "<style scoped>\n",
       "    .dataframe tbody tr th:only-of-type {\n",
       "        vertical-align: middle;\n",
       "    }\n",
       "\n",
       "    .dataframe tbody tr th {\n",
       "        vertical-align: top;\n",
       "    }\n",
       "\n",
       "    .dataframe thead th {\n",
       "        text-align: right;\n",
       "    }\n",
       "</style>\n",
       "<table border=\"1\" class=\"dataframe\">\n",
       "  <thead>\n",
       "    <tr style=\"text-align: right;\">\n",
       "      <th></th>\n",
       "      <th>% P&amp;R Ball Handler</th>\n",
       "      <th>% Spot-Up</th>\n",
       "      <th>% Transition</th>\n",
       "      <th>% ISO</th>\n",
       "      <th>% Post-Up</th>\n",
       "      <th>% P&amp;R Roll Man</th>\n",
       "      <th>% Cut</th>\n",
       "      <th>% Offensive Rebound</th>\n",
       "      <th>% Off Screen</th>\n",
       "      <th>% Hand Off</th>\n",
       "    </tr>\n",
       "  </thead>\n",
       "  <tbody>\n",
       "    <tr>\n",
       "      <th>Bogdan Bogdanovic</th>\n",
       "      <td>0.365904</td>\n",
       "      <td>0.173597</td>\n",
       "      <td>0.099792</td>\n",
       "      <td>0.097713</td>\n",
       "      <td>0.032225</td>\n",
       "      <td>0.001040</td>\n",
       "      <td>0.035343</td>\n",
       "      <td>0.032225</td>\n",
       "      <td>0.090437</td>\n",
       "      <td>0.071726</td>\n",
       "    </tr>\n",
       "    <tr>\n",
       "      <th>Luis Scola</th>\n",
       "      <td>0.000000</td>\n",
       "      <td>0.127083</td>\n",
       "      <td>0.109375</td>\n",
       "      <td>0.019792</td>\n",
       "      <td>0.316667</td>\n",
       "      <td>0.173958</td>\n",
       "      <td>0.130208</td>\n",
       "      <td>0.101042</td>\n",
       "      <td>0.020833</td>\n",
       "      <td>0.001042</td>\n",
       "    </tr>\n",
       "    <tr>\n",
       "      <th>Facundo Campazzo</th>\n",
       "      <td>0.620438</td>\n",
       "      <td>0.077164</td>\n",
       "      <td>0.145985</td>\n",
       "      <td>0.072993</td>\n",
       "      <td>0.000000</td>\n",
       "      <td>0.002086</td>\n",
       "      <td>0.009385</td>\n",
       "      <td>0.025026</td>\n",
       "      <td>0.016684</td>\n",
       "      <td>0.030240</td>\n",
       "    </tr>\n",
       "    <tr>\n",
       "      <th>Mantas Kalnietis</th>\n",
       "      <td>0.734694</td>\n",
       "      <td>0.074114</td>\n",
       "      <td>0.062299</td>\n",
       "      <td>0.038668</td>\n",
       "      <td>0.003222</td>\n",
       "      <td>0.000000</td>\n",
       "      <td>0.016112</td>\n",
       "      <td>0.024705</td>\n",
       "      <td>0.020408</td>\n",
       "      <td>0.025779</td>\n",
       "    </tr>\n",
       "    <tr>\n",
       "      <th>Bojan Bogdanovic</th>\n",
       "      <td>0.234554</td>\n",
       "      <td>0.136156</td>\n",
       "      <td>0.129291</td>\n",
       "      <td>0.170481</td>\n",
       "      <td>0.141876</td>\n",
       "      <td>0.002288</td>\n",
       "      <td>0.044622</td>\n",
       "      <td>0.025172</td>\n",
       "      <td>0.105263</td>\n",
       "      <td>0.010297</td>\n",
       "    </tr>\n",
       "    <tr>\n",
       "      <th>...</th>\n",
       "      <td>...</td>\n",
       "      <td>...</td>\n",
       "      <td>...</td>\n",
       "      <td>...</td>\n",
       "      <td>...</td>\n",
       "      <td>...</td>\n",
       "      <td>...</td>\n",
       "      <td>...</td>\n",
       "      <td>...</td>\n",
       "      <td>...</td>\n",
       "    </tr>\n",
       "    <tr>\n",
       "      <th>Chih-Shan Hung</th>\n",
       "      <td>0.360000</td>\n",
       "      <td>0.300000</td>\n",
       "      <td>0.180000</td>\n",
       "      <td>0.020000</td>\n",
       "      <td>0.000000</td>\n",
       "      <td>0.000000</td>\n",
       "      <td>0.000000</td>\n",
       "      <td>0.060000</td>\n",
       "      <td>0.060000</td>\n",
       "      <td>0.020000</td>\n",
       "    </tr>\n",
       "    <tr>\n",
       "      <th>Danilo Andjusic</th>\n",
       "      <td>0.200000</td>\n",
       "      <td>0.340000</td>\n",
       "      <td>0.160000</td>\n",
       "      <td>0.040000</td>\n",
       "      <td>0.000000</td>\n",
       "      <td>0.000000</td>\n",
       "      <td>0.080000</td>\n",
       "      <td>0.020000</td>\n",
       "      <td>0.140000</td>\n",
       "      <td>0.020000</td>\n",
       "    </tr>\n",
       "    <tr>\n",
       "      <th>Shaquille Cleare</th>\n",
       "      <td>0.000000</td>\n",
       "      <td>0.000000</td>\n",
       "      <td>0.060000</td>\n",
       "      <td>0.020000</td>\n",
       "      <td>0.400000</td>\n",
       "      <td>0.320000</td>\n",
       "      <td>0.060000</td>\n",
       "      <td>0.140000</td>\n",
       "      <td>0.000000</td>\n",
       "      <td>0.000000</td>\n",
       "    </tr>\n",
       "    <tr>\n",
       "      <th>Michal Ignerski</th>\n",
       "      <td>0.020000</td>\n",
       "      <td>0.340000</td>\n",
       "      <td>0.080000</td>\n",
       "      <td>0.060000</td>\n",
       "      <td>0.100000</td>\n",
       "      <td>0.060000</td>\n",
       "      <td>0.080000</td>\n",
       "      <td>0.180000</td>\n",
       "      <td>0.080000</td>\n",
       "      <td>0.000000</td>\n",
       "    </tr>\n",
       "    <tr>\n",
       "      <th>Arturas Milaknis</th>\n",
       "      <td>0.260000</td>\n",
       "      <td>0.320000</td>\n",
       "      <td>0.000000</td>\n",
       "      <td>0.040000</td>\n",
       "      <td>0.000000</td>\n",
       "      <td>0.000000</td>\n",
       "      <td>0.000000</td>\n",
       "      <td>0.020000</td>\n",
       "      <td>0.300000</td>\n",
       "      <td>0.060000</td>\n",
       "    </tr>\n",
       "  </tbody>\n",
       "</table>\n",
       "<p>1307 rows × 10 columns</p>\n",
       "</div>"
      ],
      "text/plain": [
       "                   % P&R Ball Handler  % Spot-Up  % Transition     % ISO  \\\n",
       "Bogdan Bogdanovic            0.365904   0.173597      0.099792  0.097713   \n",
       "Luis Scola                   0.000000   0.127083      0.109375  0.019792   \n",
       "Facundo Campazzo             0.620438   0.077164      0.145985  0.072993   \n",
       "Mantas Kalnietis             0.734694   0.074114      0.062299  0.038668   \n",
       "Bojan Bogdanovic             0.234554   0.136156      0.129291  0.170481   \n",
       "...                               ...        ...           ...       ...   \n",
       "Chih-Shan Hung               0.360000   0.300000      0.180000  0.020000   \n",
       "Danilo Andjusic              0.200000   0.340000      0.160000  0.040000   \n",
       "Shaquille Cleare             0.000000   0.000000      0.060000  0.020000   \n",
       "Michal Ignerski              0.020000   0.340000      0.080000  0.060000   \n",
       "Arturas Milaknis             0.260000   0.320000      0.000000  0.040000   \n",
       "\n",
       "                   % Post-Up  % P&R Roll Man     % Cut  % Offensive Rebound  \\\n",
       "Bogdan Bogdanovic   0.032225        0.001040  0.035343             0.032225   \n",
       "Luis Scola          0.316667        0.173958  0.130208             0.101042   \n",
       "Facundo Campazzo    0.000000        0.002086  0.009385             0.025026   \n",
       "Mantas Kalnietis    0.003222        0.000000  0.016112             0.024705   \n",
       "Bojan Bogdanovic    0.141876        0.002288  0.044622             0.025172   \n",
       "...                      ...             ...       ...                  ...   \n",
       "Chih-Shan Hung      0.000000        0.000000  0.000000             0.060000   \n",
       "Danilo Andjusic     0.000000        0.000000  0.080000             0.020000   \n",
       "Shaquille Cleare    0.400000        0.320000  0.060000             0.140000   \n",
       "Michal Ignerski     0.100000        0.060000  0.080000             0.180000   \n",
       "Arturas Milaknis    0.000000        0.000000  0.000000             0.020000   \n",
       "\n",
       "                   % Off Screen  % Hand Off  \n",
       "Bogdan Bogdanovic      0.090437    0.071726  \n",
       "Luis Scola             0.020833    0.001042  \n",
       "Facundo Campazzo       0.016684    0.030240  \n",
       "Mantas Kalnietis       0.020408    0.025779  \n",
       "Bojan Bogdanovic       0.105263    0.010297  \n",
       "...                         ...         ...  \n",
       "Chih-Shan Hung         0.060000    0.020000  \n",
       "Danilo Andjusic        0.140000    0.020000  \n",
       "Shaquille Cleare       0.000000    0.000000  \n",
       "Michal Ignerski        0.080000    0.000000  \n",
       "Arturas Milaknis       0.300000    0.060000  \n",
       "\n",
       "[1307 rows x 10 columns]"
      ]
     },
     "execution_count": 8,
     "metadata": {},
     "output_type": "execute_result"
    }
   ],
   "source": [
    "filt_df = df[df['Total'] >= 50].sort_values('Total', ascending=False)[['% ' + p for p in play_types]].copy()\n",
    "filt_df"
   ]
  },
  {
   "cell_type": "code",
   "execution_count": 9,
   "metadata": {},
   "outputs": [
    {
     "data": {
      "image/png": "[encoded data removed]",
      "text/plain": [
       "<Figure size 1152x576 with 10 Axes>"
      ]
     },
     "metadata": {
      "needs_background": "light"
     },
     "output_type": "display_data"
    }
   ],
   "source": [
    "plt.subplots(2, 5, figsize=(16, 8))\n",
    "for i in range(len(play_types)):\n",
    "    plt.subplot(2, 5, i+1)\n",
    "    plt.hist(filt_df['% ' + play_types[i]], bins=20)\n",
    "    plt.title(play_types[i])\n",
    "plt.tight_layout()\n",
    "plt.show()"
   ]
  },
  {
   "cell_type": "code",
   "execution_count": 10,
   "metadata": {},
   "outputs": [
    {
     "name": "stdout",
     "output_type": "stream",
     "text": [
      "[34.878899099469464, 31.295309457033202, 28.240654281107858, 26.975433833176936, 25.85056717719616, 24.75502737415092, 23.891931774883354, 23.133848461699266, 22.305546794244542, 21.45427213768967]\n"
     ]
    }
   ],
   "source": [
    "from sklearn.cluster import KMeans\n",
    "inertias = []\n",
    "for i in range(5, 15):\n",
    "    test_model = KMeans(n_clusters=i)\n",
    "    test_model.fit(filt_df)\n",
    "    inertias.append(test_model.inertia_)\n",
    "print(inertias)"
   ]
  },
  {
   "cell_type": "code",
   "execution_count": 11,
   "metadata": {},
   "outputs": [
    {
     "data": {
      "image/png": "[encoded data removed]",
      "text/plain": [
       "<Figure size 576x288 with 1 Axes>"
      ]
     },
     "metadata": {
      "needs_background": "light"
     },
     "output_type": "display_data"
    }
   ],
   "source": [
    "plt.figure(figsize=(8,4))\n",
    "plt.plot(range(5,15), inertias, 'bx-')\n",
    "plt.xlabel('k')\n",
    "plt.ylabel('Distortion')\n",
    "plt.title('The Elbow Method showing the optimal k')\n",
    "plt.show()"
   ]
  },
  {
   "cell_type": "code",
   "execution_count": 12,
   "metadata": {},
   "outputs": [
    {
     "data": {
      "text/plain": [
       "1    271\n",
       "3    220\n",
       "6    204\n",
       "4    192\n",
       "2    175\n",
       "5    127\n",
       "0    118\n",
       "Name: Cluster, dtype: int64"
      ]
     },
     "execution_count": 12,
     "metadata": {},
     "output_type": "execute_result"
    }
   ],
   "source": [
    "num_clusters = 7\n",
    "test_model = KMeans(n_clusters=num_clusters)\n",
    "test_model.fit(filt_df)\n",
    "filt_df['Cluster'] = test_model.labels_\n",
    "filt_df['Cluster'].value_counts()"
   ]
  },
  {
   "cell_type": "code",
   "execution_count": 13,
   "metadata": {},
   "outputs": [
    {
     "name": "stdout",
     "output_type": "stream",
     "text": [
      "Cluster 0\n",
      "['Luis Scola', 'Pau Gasol', 'Boris Diaw', 'Ioannis Bourousis', 'Miroslav Raduljica', 'Hamed Haddadi']\n",
      "\n",
      "Cluster 1\n",
      "['Bogdan Bogdanovic', 'Marco Belinelli', 'Mohammad Jamshidi', 'Renaldas Seibutis', 'Ricky Rubio', 'Gregory Vargas']\n",
      "\n",
      "Cluster 2\n",
      "['Hector Hernandez', 'Vitaly Fridzon', 'Luigi Datome', 'Shawn Huff', 'Robin Benzing', 'Andrés Nocioni']\n",
      "\n",
      "Cluster 3\n",
      "['Bojan Bogdanovic', 'Nicolas Batum', 'Alessandro Gentile', 'Nemanja Bjelica', 'Vojtech Hruban', 'Cedi Osman']\n",
      "\n",
      "Cluster 4\n",
      "['Andray Blatche', 'Dario Saric', 'Jonas Maciulis', 'Jianlian Yi', 'Makram Ben Romdhane', 'Ike Diogu']\n",
      "\n",
      "Cluster 5\n",
      "['Nestor Colmenares', 'Yanick Moreira', 'Renaldo Balkman', 'Joffrey Lauvergne', 'Eloy Vargas', 'Marcos Delia']\n",
      "\n",
      "Cluster 6\n",
      "['Facundo Campazzo', 'Mantas Kalnietis', 'Nicolas Laprovittola', 'Dennis Schroder', 'Petteri Koponen', 'Goran Dragic']\n",
      "\n"
     ]
    }
   ],
   "source": [
    "for i in range(num_clusters):\n",
    "    print(\"Cluster \"+ str(i))\n",
    "    print(list(filt_df[filt_df['Cluster'] == i].head(6).index))\n",
    "    print()"
   ]
  },
  {
   "cell_type": "code",
   "execution_count": 14,
   "metadata": {},
   "outputs": [
    {
     "data": {
      "text/html": [
       "<div>\n",
       "<style scoped>\n",
       "    .dataframe tbody tr th:only-of-type {\n",
       "        vertical-align: middle;\n",
       "    }\n",
       "\n",
       "    .dataframe tbody tr th {\n",
       "        vertical-align: top;\n",
       "    }\n",
       "\n",
       "    .dataframe thead th {\n",
       "        text-align: right;\n",
       "    }\n",
       "</style>\n",
       "<table border=\"1\" class=\"dataframe\">\n",
       "  <thead>\n",
       "    <tr style=\"text-align: right;\">\n",
       "      <th></th>\n",
       "      <th>% P&amp;R Ball Handler</th>\n",
       "      <th>% Spot-Up</th>\n",
       "      <th>% Transition</th>\n",
       "      <th>% ISO</th>\n",
       "      <th>% Post-Up</th>\n",
       "      <th>% P&amp;R Roll Man</th>\n",
       "      <th>% Cut</th>\n",
       "      <th>% Offensive Rebound</th>\n",
       "      <th>% Off Screen</th>\n",
       "      <th>% Hand Off</th>\n",
       "    </tr>\n",
       "    <tr>\n",
       "      <th>Cluster</th>\n",
       "      <th></th>\n",
       "      <th></th>\n",
       "      <th></th>\n",
       "      <th></th>\n",
       "      <th></th>\n",
       "      <th></th>\n",
       "      <th></th>\n",
       "      <th></th>\n",
       "      <th></th>\n",
       "      <th></th>\n",
       "    </tr>\n",
       "  </thead>\n",
       "  <tbody>\n",
       "    <tr>\n",
       "      <th>0</th>\n",
       "      <td>0.002245</td>\n",
       "      <td>0.077534</td>\n",
       "      <td>0.061649</td>\n",
       "      <td>0.023962</td>\n",
       "      <td>0.390542</td>\n",
       "      <td>0.127608</td>\n",
       "      <td>0.141095</td>\n",
       "      <td>0.166770</td>\n",
       "      <td>0.007360</td>\n",
       "      <td>0.001235</td>\n",
       "    </tr>\n",
       "    <tr>\n",
       "      <th>1</th>\n",
       "      <td>0.427214</td>\n",
       "      <td>0.189451</td>\n",
       "      <td>0.137620</td>\n",
       "      <td>0.080366</td>\n",
       "      <td>0.009927</td>\n",
       "      <td>0.000841</td>\n",
       "      <td>0.026421</td>\n",
       "      <td>0.049306</td>\n",
       "      <td>0.047027</td>\n",
       "      <td>0.031829</td>\n",
       "    </tr>\n",
       "    <tr>\n",
       "      <th>2</th>\n",
       "      <td>0.068456</td>\n",
       "      <td>0.391489</td>\n",
       "      <td>0.157029</td>\n",
       "      <td>0.039847</td>\n",
       "      <td>0.044777</td>\n",
       "      <td>0.028332</td>\n",
       "      <td>0.074284</td>\n",
       "      <td>0.115008</td>\n",
       "      <td>0.059953</td>\n",
       "      <td>0.020825</td>\n",
       "    </tr>\n",
       "    <tr>\n",
       "      <th>3</th>\n",
       "      <td>0.226980</td>\n",
       "      <td>0.239482</td>\n",
       "      <td>0.186754</td>\n",
       "      <td>0.080174</td>\n",
       "      <td>0.028385</td>\n",
       "      <td>0.003386</td>\n",
       "      <td>0.044384</td>\n",
       "      <td>0.063870</td>\n",
       "      <td>0.089340</td>\n",
       "      <td>0.037244</td>\n",
       "    </tr>\n",
       "    <tr>\n",
       "      <th>4</th>\n",
       "      <td>0.020192</td>\n",
       "      <td>0.245696</td>\n",
       "      <td>0.110075</td>\n",
       "      <td>0.054786</td>\n",
       "      <td>0.171564</td>\n",
       "      <td>0.110062</td>\n",
       "      <td>0.116937</td>\n",
       "      <td>0.136844</td>\n",
       "      <td>0.026268</td>\n",
       "      <td>0.007577</td>\n",
       "    </tr>\n",
       "    <tr>\n",
       "      <th>5</th>\n",
       "      <td>0.003603</td>\n",
       "      <td>0.080946</td>\n",
       "      <td>0.079677</td>\n",
       "      <td>0.020575</td>\n",
       "      <td>0.169163</td>\n",
       "      <td>0.171441</td>\n",
       "      <td>0.219311</td>\n",
       "      <td>0.249084</td>\n",
       "      <td>0.004764</td>\n",
       "      <td>0.001435</td>\n",
       "    </tr>\n",
       "    <tr>\n",
       "      <th>6</th>\n",
       "      <td>0.611545</td>\n",
       "      <td>0.119353</td>\n",
       "      <td>0.088683</td>\n",
       "      <td>0.083491</td>\n",
       "      <td>0.004996</td>\n",
       "      <td>0.000224</td>\n",
       "      <td>0.011800</td>\n",
       "      <td>0.031998</td>\n",
       "      <td>0.022244</td>\n",
       "      <td>0.025667</td>\n",
       "    </tr>\n",
       "  </tbody>\n",
       "</table>\n",
       "</div>"
      ],
      "text/plain": [
       "         % P&R Ball Handler  % Spot-Up  % Transition     % ISO  % Post-Up  \\\n",
       "Cluster                                                                     \n",
       "0                  0.002245   0.077534      0.061649  0.023962   0.390542   \n",
       "1                  0.427214   0.189451      0.137620  0.080366   0.009927   \n",
       "2                  0.068456   0.391489      0.157029  0.039847   0.044777   \n",
       "3                  0.226980   0.239482      0.186754  0.080174   0.028385   \n",
       "4                  0.020192   0.245696      0.110075  0.054786   0.171564   \n",
       "5                  0.003603   0.080946      0.079677  0.020575   0.169163   \n",
       "6                  0.611545   0.119353      0.088683  0.083491   0.004996   \n",
       "\n",
       "         % P&R Roll Man     % Cut  % Offensive Rebound  % Off Screen  \\\n",
       "Cluster                                                                \n",
       "0              0.127608  0.141095             0.166770      0.007360   \n",
       "1              0.000841  0.026421             0.049306      0.047027   \n",
       "2              0.028332  0.074284             0.115008      0.059953   \n",
       "3              0.003386  0.044384             0.063870      0.089340   \n",
       "4              0.110062  0.116937             0.136844      0.026268   \n",
       "5              0.171441  0.219311             0.249084      0.004764   \n",
       "6              0.000224  0.011800             0.031998      0.022244   \n",
       "\n",
       "         % Hand Off  \n",
       "Cluster              \n",
       "0          0.001235  \n",
       "1          0.031829  \n",
       "2          0.020825  \n",
       "3          0.037244  \n",
       "4          0.007577  \n",
       "5          0.001435  \n",
       "6          0.025667  "
      ]
     },
     "execution_count": 14,
     "metadata": {},
     "output_type": "execute_result"
    }
   ],
   "source": [
    "filt_df.groupby('Cluster').mean()"
   ]
  },
  {
   "cell_type": "code",
   "execution_count": 15,
   "metadata": {},
   "outputs": [],
   "source": [
    "# Radar plots for each cluster?"
   ]
  }
 ],
 "metadata": {
  "kernelspec": {
   "display_name": "Python 3",
   "language": "python",
   "name": "python3"
  },
  "language_info": {
   "codemirror_mode": {
    "name": "ipython",
    "version": 3
   },
   "file_extension": ".py",
   "mimetype": "text/x-python",
   "name": "python",
   "nbconvert_exporter": "python",
   "pygments_lexer": "ipython3",
   "version": "3.8.3"
  }
 },
 "nbformat": 4,
 "nbformat_minor": 4
}
